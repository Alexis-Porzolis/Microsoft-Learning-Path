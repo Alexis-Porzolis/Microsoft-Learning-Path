{
  "cells": [
    {
      "cell_type": "markdown",
      "source": [
        "# Exercise: Titanic Dataset - Visualising Different Types of Data\n",
        "\n",
        "To build better machine learning models we should understand the available data. This usually means both:\n",
        "\n",
        "1. data visualization\n",
        "\n",
        "2. understanding the kind of data we have available \n",
        "\n",
        "In this module, we'll practice cleaning our Titanic dataset, and visualization of different kinds of data, especially\n",
        "\n",
        "- continuous\n",
        "- ordinal\n",
        "- categorical\n",
        "- simple identity column\n",
        "\n",
        "data types.\n",
        "\n",
        "## A Note On Our Graphing\n",
        "\n",
        "In this exercise, we'll use a custom python script to create our graphs. This script uses Plotly, a well-known graphing library. \n",
        "\n",
        "This script will focus on data exploration, instead of a deep focus on Plotly. If you'd like to review this custom script, you can find it in our GitHub repository.\n",
        "\n",
        "## First Inspection\n",
        "\n",
        "Let's reload the Titanic Dataset, and reacquaint ourselves with its data:\n"
      ],
      "metadata": {}
    },
    {
      "cell_type": "code",
      "source": [
        "import pandas as pd\n",
        "\n",
        "# Load data from our dataset file into a pandas dataframe\n",
        "!wget https://raw.githubusercontent.com/MicrosoftDocs/mslearn-introduction-to-machine-learning/main/Data/titanic.csv\n",
        "!wget https://raw.githubusercontent.com/MicrosoftDocs/mslearn-introduction-to-machine-learning/main/graphing.py\n",
        "dataset = pd.read_csv('titanic.csv', index_col=False, sep=\",\", header=0)\n",
        "\n",
        "# Let's take a look at the data\n",
        "dataset.head()\n"
      ],
      "outputs": [],
      "execution_count": null,
      "metadata": {
        "gather": {
          "logged": 1677521763687
        }
      }
    },
    {
      "cell_type": "markdown",
      "source": [
        "Take a careful look at the columns, and try to identify those columns holding continuous, ordinal, categorical, or identity data.\n",
        "\n",
        "We can display a brief summary of the _dataypes_ with panda's `info()` method:"
      ],
      "metadata": {}
    },
    {
      "cell_type": "code",
      "source": [
        "dataset.info()"
      ],
      "outputs": [],
      "execution_count": null,
      "metadata": {
        "gather": {
          "logged": 1677522886899
        }
      }
    },
    {
      "cell_type": "markdown",
      "source": [
        "We can see several columns stored as numerical data (the `int64` or `float64` types), while others contain more complex data types (those with `object` as Dtype)\n",
        "\n",
        "## Visualising Ordinal Data\n",
        "\n",
        "Let's visualize some ordinal data. We have available:\n",
        "\n",
        "1. `Pclass` - the ticket class\n",
        "2. `Parch` - the number of parents or children on the ship\n",
        "3. `sibsp` - the number of siblings or spouses on the ship\n",
        "\n",
        "We can view ordinal data with almost any kind of graph. We'll start with a simple histogram that describes relationships between the ticket class and the likelihood of survival."
      ],
      "metadata": {}
    },
    {
      "cell_type": "code",
      "source": [
        "import graphing\n",
        "\n",
        "graphing.histogram(dataset, label_x='Pclass', label_y='Survived', histfunc='avg', include_boxplot=True)\n"
      ],
      "outputs": [],
      "execution_count": null,
      "metadata": {
        "gather": {
          "logged": 1677523084411
        }
      }
    },
    {
      "cell_type": "markdown",
      "source": [
        "The box and whisker plot (top) shows that at least half the people had third-class tickets - note how the median and maximum of the plot both sit at `Pclass = 3`.\n",
        "\n",
        "The histogram shows that people in second and third class tended not to survive the wreck.\n",
        "\n",
        "Let's look at how survival varies, depending on whether a passenger had parents or children on the ship"
      ],
      "metadata": {}
    },
    {
      "cell_type": "code",
      "source": [
        "graphing.multiple_histogram(dataset, \n",
        "                            label_x='Pclass', # group by ticket class\n",
        "                            label_group=\"Parch\", # colour by no parents or children\n",
        "                            label_y='Survived', \n",
        "                            histfunc=\"avg\")"
      ],
      "outputs": [
        {
          "output_type": "display_data",
          "data": {
            "application/vnd.plotly.v1+json": {
              "config": {
                "plotlyServerURL": "https://plot.ly"
              },
              "data": [
                {
                  "histfunc": "avg",
                  "name": "0",
                  "type": "histogram",
                  "x": [
                    3,
                    1,
                    3,
                    1,
                    3,
                    3,
                    1,
                    2,
                    1,
                    3,
                    3,
                    2,
                    2,
                    3,
                    3,
                    2,
                    2,
                    3,
                    1,
                    3,
                    3,
                    3,
                    1,
                    1,
                    3,
                    2,
                    1,
                    1,
                    3,
                    3,
                    3,
                    3,
                    3,
                    2,
                    3,
                    3,
                    3,
                    3,
                    3,
                    3,
                    3,
                    3,
                    1,
                    2,
                    1,
                    2,
                    3,
                    3,
                    1,
                    1,
                    1,
                    2,
                    3,
                    3,
                    2,
                    2,
                    3,
                    3,
                    3,
                    3,
                    3,
                    3,
                    3,
                    3,
                    3,
                    1,
                    2,
                    3,
                    3,
                    3,
                    3,
                    3,
                    1,
                    3,
                    3,
                    1,
                    2,
                    3,
                    3,
                    3,
                    3,
                    3,
                    3,
                    3,
                    3,
                    3,
                    1,
                    3,
                    3,
                    3,
                    3,
                    3,
                    3,
                    2,
                    2,
                    3,
                    2,
                    2,
                    3,
                    3,
                    3,
                    3,
                    3,
                    3,
                    3,
                    2,
                    2,
                    2,
                    1,
                    3,
                    1,
                    3,
                    3,
                    3,
                    2,
                    3,
                    2,
                    2,
                    1,
                    3,
                    3,
                    3,
                    3,
                    3,
                    2,
                    3,
                    3,
                    1,
                    3,
                    1,
                    3,
                    1,
                    1,
                    2,
                    3,
                    2,
                    1,
                    3,
                    1,
                    3,
                    2,
                    2,
                    3,
                    1,
                    1,
                    3,
                    3,
                    2,
                    3,
                    3,
                    3,
                    3,
                    3,
                    3,
                    3,
                    1,
                    3,
                    2,
                    3,
                    2,
                    3,
                    1,
                    3,
                    2,
                    1,
                    2,
                    3,
                    2,
                    3,
                    3,
                    1,
                    3,
                    2,
                    3,
                    2,
                    1,
                    3,
                    2,
                    2,
                    3,
                    2,
                    2,
                    2,
                    3,
                    3,
                    2,
                    3,
                    3,
                    1,
                    3,
                    2,
                    3,
                    1,
                    3,
                    1,
                    1,
                    1,
                    3,
                    1,
                    3,
                    2,
                    3,
                    1,
                    1,
                    3,
                    3,
                    1,
                    3,
                    2,
                    3,
                    3,
                    3,
                    3,
                    1,
                    3,
                    3,
                    3,
                    2,
                    3,
                    1,
                    1,
                    2,
                    3,
                    3,
                    1,
                    3,
                    1,
                    3,
                    3,
                    3,
                    2,
                    3,
                    1,
                    1,
                    2,
                    1,
                    1,
                    3,
                    3,
                    2,
                    2,
                    3,
                    3,
                    2,
                    1,
                    3,
                    2,
                    3,
                    1,
                    3,
                    1,
                    3,
                    1,
                    1,
                    3,
                    1,
                    2,
                    2,
                    2,
                    2,
                    2,
                    3,
                    3,
                    3,
                    1,
                    3,
                    3,
                    3,
                    2,
                    3,
                    3,
                    2,
                    3,
                    3,
                    3,
                    1,
                    3,
                    3,
                    1,
                    1,
                    3,
                    3,
                    1,
                    1,
                    3,
                    3,
                    3,
                    1,
                    3,
                    1,
                    3,
                    2,
                    2,
                    3,
                    2,
                    3,
                    3,
                    1,
                    3,
                    3,
                    2,
                    2,
                    2,
                    3,
                    3,
                    3,
                    3,
                    3,
                    2,
                    3,
                    3,
                    3,
                    3,
                    1,
                    2,
                    3,
                    3,
                    2,
                    3,
                    3,
                    3,
                    3,
                    2,
                    2,
                    3,
                    3,
                    1,
                    3,
                    2,
                    3,
                    1,
                    2,
                    3,
                    3,
                    2,
                    3,
                    1,
                    1,
                    3,
                    1,
                    1,
                    3,
                    3,
                    1,
                    1,
                    2,
                    3,
                    1,
                    3,
                    1,
                    2,
                    3,
                    3,
                    2,
                    1,
                    3,
                    3,
                    3,
                    2,
                    3,
                    1,
                    2,
                    3,
                    3,
                    2,
                    3,
                    3,
                    1,
                    1,
                    1,
                    3,
                    3,
                    3,
                    1,
                    1,
                    3,
                    3,
                    1,
                    3,
                    3,
                    3,
                    3,
                    3,
                    3,
                    1,
                    1,
                    1,
                    3,
                    3,
                    3,
                    3,
                    1,
                    1,
                    3,
                    1,
                    2,
                    3,
                    2,
                    3,
                    1,
                    3,
                    3,
                    3,
                    3,
                    2,
                    1,
                    3,
                    3,
                    3,
                    1,
                    1,
                    3,
                    2,
                    1,
                    1,
                    2,
                    2,
                    2,
                    3,
                    3,
                    3,
                    1,
                    1,
                    1,
                    3,
                    3,
                    3,
                    2,
                    3,
                    3,
                    3,
                    3,
                    3,
                    3,
                    2,
                    1,
                    1,
                    3,
                    3,
                    3,
                    2,
                    1,
                    3,
                    3,
                    2,
                    1,
                    3,
                    2,
                    3,
                    3,
                    3,
                    1,
                    3,
                    2,
                    2,
                    3,
                    3,
                    1,
                    3,
                    1,
                    3,
                    1,
                    3,
                    3,
                    1,
                    1,
                    3,
                    3,
                    3,
                    3,
                    3,
                    2,
                    3,
                    1,
                    3,
                    3,
                    1,
                    2,
                    1,
                    3,
                    3,
                    1,
                    3,
                    1,
                    1,
                    2,
                    3,
                    3,
                    3,
                    1,
                    3,
                    1,
                    3,
                    1,
                    3,
                    3,
                    3,
                    3,
                    3,
                    3,
                    2,
                    3,
                    2,
                    1,
                    3,
                    1,
                    3,
                    3,
                    2,
                    2,
                    3,
                    3,
                    1,
                    1,
                    2,
                    2,
                    2,
                    3,
                    3,
                    3,
                    3,
                    1,
                    3,
                    3,
                    3,
                    1,
                    3,
                    3,
                    1,
                    2,
                    3,
                    3,
                    3,
                    1,
                    1,
                    3,
                    3,
                    2,
                    2,
                    1,
                    1,
                    1,
                    1,
                    1,
                    3,
                    2,
                    3,
                    1,
                    2,
                    3,
                    3,
                    3,
                    2,
                    2,
                    1,
                    3,
                    2,
                    3,
                    2,
                    3,
                    1,
                    3,
                    2,
                    2,
                    2,
                    3,
                    1,
                    3,
                    3,
                    1,
                    1,
                    3,
                    3,
                    2,
                    1,
                    3,
                    3,
                    3,
                    3,
                    2,
                    3,
                    1,
                    3,
                    3,
                    3,
                    3,
                    1,
                    1,
                    3,
                    3,
                    3,
                    3,
                    3,
                    2,
                    3,
                    3,
                    3,
                    3,
                    3,
                    3,
                    1,
                    1,
                    3,
                    3,
                    3,
                    1,
                    3,
                    2,
                    1,
                    3,
                    2,
                    1,
                    3,
                    3,
                    2,
                    3,
                    3,
                    1,
                    3,
                    2,
                    1,
                    3,
                    3,
                    2,
                    3,
                    1,
                    3,
                    3,
                    3,
                    1,
                    3,
                    3,
                    3,
                    1,
                    3,
                    3,
                    3,
                    3,
                    3,
                    3,
                    3,
                    1,
                    3,
                    2,
                    1,
                    3,
                    3,
                    3,
                    3,
                    1,
                    3,
                    2,
                    1,
                    3,
                    3,
                    2,
                    1,
                    2,
                    2,
                    2,
                    1,
                    3,
                    3,
                    1,
                    3,
                    2,
                    3,
                    3,
                    3,
                    3,
                    3,
                    3,
                    2,
                    3,
                    2,
                    1,
                    1,
                    3
                  ],
                  "y": [
                    0,
                    1,
                    1,
                    1,
                    0,
                    0,
                    0,
                    1,
                    1,
                    0,
                    0,
                    1,
                    1,
                    0,
                    1,
                    0,
                    1,
                    1,
                    1,
                    0,
                    1,
                    0,
                    0,
                    1,
                    1,
                    0,
                    0,
                    0,
                    1,
                    0,
                    0,
                    1,
                    0,
                    0,
                    0,
                    1,
                    0,
                    0,
                    1,
                    0,
                    0,
                    0,
                    1,
                    1,
                    1,
                    1,
                    0,
                    0,
                    1,
                    0,
                    0,
                    1,
                    0,
                    0,
                    0,
                    0,
                    0,
                    1,
                    0,
                    0,
                    0,
                    1,
                    0,
                    1,
                    1,
                    0,
                    1,
                    1,
                    0,
                    0,
                    0,
                    0,
                    0,
                    0,
                    0,
                    0,
                    0,
                    0,
                    0,
                    0,
                    0,
                    0,
                    1,
                    1,
                    0,
                    1,
                    0,
                    0,
                    0,
                    0,
                    0,
                    0,
                    0,
                    0,
                    0,
                    0,
                    0,
                    1,
                    1,
                    0,
                    1,
                    0,
                    0,
                    0,
                    0,
                    1,
                    0,
                    0,
                    0,
                    0,
                    0,
                    1,
                    1,
                    0,
                    0,
                    1,
                    0,
                    0,
                    1,
                    0,
                    0,
                    1,
                    0,
                    0,
                    1,
                    0,
                    0,
                    0,
                    0,
                    0,
                    0,
                    0,
                    0,
                    0,
                    0,
                    0,
                    0,
                    1,
                    1,
                    0,
                    1,
                    0,
                    1,
                    1,
                    1,
                    0,
                    1,
                    0,
                    0,
                    0,
                    0,
                    1,
                    0,
                    1,
                    1,
                    1,
                    0,
                    1,
                    0,
                    0,
                    0,
                    1,
                    1,
                    0,
                    1,
                    0,
                    1,
                    0,
                    0,
                    0,
                    1,
                    0,
                    1,
                    0,
                    0,
                    1,
                    0,
                    0,
                    0,
                    0,
                    0,
                    0,
                    0,
                    0,
                    1,
                    0,
                    0,
                    0,
                    0,
                    0,
                    0,
                    0,
                    0,
                    0,
                    1,
                    1,
                    1,
                    0,
                    0,
                    0,
                    0,
                    1,
                    1,
                    0,
                    1,
                    1,
                    1,
                    0,
                    0,
                    0,
                    0,
                    0,
                    1,
                    0,
                    0,
                    1,
                    0,
                    1,
                    1,
                    1,
                    1,
                    0,
                    0,
                    0,
                    0,
                    0,
                    1,
                    1,
                    1,
                    0,
                    1,
                    0,
                    1,
                    1,
                    0,
                    1,
                    1,
                    0,
                    1,
                    1,
                    0,
                    0,
                    0,
                    1,
                    1,
                    0,
                    1,
                    1,
                    0,
                    0,
                    1,
                    0,
                    0,
                    1,
                    1,
                    0,
                    0,
                    0,
                    0,
                    1,
                    1,
                    1,
                    0,
                    0,
                    0,
                    0,
                    0,
                    0,
                    0,
                    1,
                    1,
                    0,
                    0,
                    0,
                    0,
                    1,
                    1,
                    1,
                    1,
                    1,
                    0,
                    0,
                    0,
                    1,
                    1,
                    0,
                    0,
                    1,
                    0,
                    1,
                    0,
                    0,
                    1,
                    0,
                    1,
                    1,
                    0,
                    1,
                    0,
                    0,
                    0,
                    0,
                    1,
                    1,
                    0,
                    0,
                    0,
                    0,
                    0,
                    0,
                    0,
                    0,
                    0,
                    1,
                    0,
                    1,
                    0,
                    0,
                    0,
                    0,
                    0,
                    0,
                    1,
                    1,
                    0,
                    1,
                    1,
                    1,
                    1,
                    0,
                    0,
                    0,
                    0,
                    0,
                    1,
                    1,
                    1,
                    1,
                    0,
                    0,
                    1,
                    0,
                    1,
                    0,
                    1,
                    1,
                    0,
                    1,
                    0,
                    0,
                    0,
                    0,
                    0,
                    0,
                    0,
                    0,
                    0,
                    0,
                    1,
                    0,
                    0,
                    0,
                    0,
                    0,
                    0,
                    0,
                    1,
                    1,
                    1,
                    0,
                    0,
                    0,
                    0,
                    0,
                    0,
                    0,
                    0,
                    1,
                    0,
                    0,
                    0,
                    0,
                    0,
                    0,
                    1,
                    0,
                    1,
                    0,
                    1,
                    1,
                    0,
                    1,
                    1,
                    0,
                    0,
                    1,
                    0,
                    1,
                    0,
                    1,
                    0,
                    0,
                    0,
                    0,
                    1,
                    0,
                    0,
                    0,
                    0,
                    0,
                    1,
                    0,
                    1,
                    0,
                    0,
                    1,
                    1,
                    0,
                    0,
                    1,
                    1,
                    0,
                    1,
                    0,
                    1,
                    0,
                    0,
                    0,
                    0,
                    0,
                    0,
                    0,
                    0,
                    1,
                    1,
                    1,
                    1,
                    1,
                    0,
                    0,
                    1,
                    1,
                    0,
                    1,
                    0,
                    0,
                    0,
                    0,
                    0,
                    0,
                    0,
                    1,
                    0,
                    0,
                    1,
                    0,
                    0,
                    1,
                    0,
                    0,
                    0,
                    1,
                    0,
                    0,
                    1,
                    1,
                    0,
                    1,
                    0,
                    0,
                    0,
                    0,
                    0,
                    1,
                    0,
                    0,
                    0,
                    0,
                    1,
                    0,
                    0,
                    1,
                    0,
                    1,
                    0,
                    1,
                    0,
                    0,
                    0,
                    1,
                    1,
                    1,
                    0,
                    1,
                    0,
                    1,
                    0,
                    0,
                    1,
                    0,
                    0,
                    0,
                    0,
                    1,
                    0,
                    0,
                    0,
                    1,
                    0,
                    0,
                    0,
                    0,
                    1,
                    0,
                    0,
                    1,
                    0,
                    0,
                    0,
                    1,
                    0,
                    1,
                    0,
                    0,
                    0,
                    1,
                    1,
                    0,
                    0,
                    0,
                    0,
                    1,
                    0,
                    1,
                    1,
                    0,
                    0,
                    0,
                    1,
                    1,
                    1,
                    1,
                    0,
                    1,
                    0,
                    0,
                    0,
                    1,
                    1,
                    0,
                    0,
                    0,
                    0,
                    0,
                    1,
                    0,
                    1,
                    1,
                    0,
                    0,
                    1,
                    0,
                    0,
                    0,
                    0,
                    0,
                    1,
                    0,
                    0,
                    1,
                    0,
                    0,
                    1,
                    1,
                    0,
                    0,
                    0,
                    0,
                    0,
                    0,
                    0,
                    1,
                    0,
                    0,
                    1,
                    0,
                    1,
                    0,
                    0,
                    0,
                    0,
                    0,
                    0,
                    0,
                    0,
                    0,
                    0,
                    1,
                    0,
                    1,
                    1,
                    0,
                    0,
                    0,
                    1,
                    0,
                    0,
                    0,
                    0,
                    0,
                    0,
                    1,
                    1,
                    0,
                    0,
                    1,
                    0,
                    0,
                    0,
                    0,
                    1,
                    0,
                    0,
                    0,
                    0,
                    0,
                    0,
                    0,
                    1,
                    0,
                    0,
                    0,
                    1,
                    1,
                    1,
                    0,
                    0,
                    0,
                    0,
                    0,
                    1,
                    1,
                    0,
                    0,
                    1,
                    0,
                    0,
                    0,
                    0,
                    1,
                    0,
                    0,
                    1,
                    0,
                    0,
                    0,
                    1,
                    0,
                    1,
                    1,
                    0,
                    0,
                    0,
                    0,
                    0,
                    1,
                    1,
                    0,
                    0,
                    0,
                    0,
                    0,
                    0,
                    0,
                    0,
                    1,
                    1,
                    0
                  ]
                },
                {
                  "histfunc": "avg",
                  "name": "1",
                  "type": "histogram",
                  "x": [
                    3,
                    3,
                    3,
                    3,
                    3,
                    1,
                    3,
                    1,
                    2,
                    1,
                    1,
                    1,
                    3,
                    2,
                    1,
                    3,
                    3,
                    1,
                    3,
                    3,
                    3,
                    3,
                    2,
                    3,
                    2,
                    3,
                    3,
                    3,
                    1,
                    3,
                    2,
                    1,
                    3,
                    1,
                    2,
                    1,
                    3,
                    3,
                    1,
                    2,
                    2,
                    1,
                    2,
                    3,
                    1,
                    1,
                    2,
                    3,
                    3,
                    1,
                    3,
                    3,
                    2,
                    3,
                    2,
                    3,
                    3,
                    2,
                    2,
                    3,
                    3,
                    3,
                    3,
                    3,
                    1,
                    2,
                    2,
                    3,
                    3,
                    2,
                    1,
                    2,
                    1,
                    1,
                    3,
                    2,
                    3,
                    2,
                    3,
                    2,
                    3,
                    2,
                    3,
                    2,
                    1,
                    2,
                    3,
                    1,
                    3,
                    1,
                    3,
                    3,
                    2,
                    1,
                    3,
                    2,
                    3,
                    2,
                    1,
                    3,
                    3,
                    2,
                    3,
                    2,
                    1,
                    3,
                    3,
                    2,
                    1,
                    2,
                    3,
                    1,
                    3,
                    1,
                    3,
                    1,
                    1,
                    2
                  ],
                  "y": [
                    0,
                    1,
                    0,
                    0,
                    0,
                    0,
                    1,
                    1,
                    1,
                    0,
                    0,
                    0,
                    1,
                    0,
                    0,
                    0,
                    0,
                    1,
                    0,
                    1,
                    0,
                    0,
                    1,
                    0,
                    1,
                    0,
                    0,
                    0,
                    1,
                    0,
                    1,
                    0,
                    0,
                    1,
                    1,
                    0,
                    0,
                    1,
                    1,
                    0,
                    0,
                    1,
                    1,
                    1,
                    1,
                    0,
                    1,
                    1,
                    0,
                    1,
                    0,
                    0,
                    1,
                    0,
                    1,
                    0,
                    0,
                    1,
                    1,
                    1,
                    1,
                    1,
                    0,
                    1,
                    1,
                    0,
                    1,
                    0,
                    0,
                    1,
                    1,
                    1,
                    1,
                    1,
                    0,
                    1,
                    0,
                    1,
                    1,
                    0,
                    1,
                    1,
                    0,
                    1,
                    1,
                    0,
                    0,
                    1,
                    1,
                    0,
                    0,
                    1,
                    1,
                    0,
                    0,
                    1,
                    1,
                    1,
                    1,
                    0,
                    0,
                    1,
                    1,
                    0,
                    1,
                    1,
                    0,
                    1,
                    1,
                    0,
                    0,
                    1,
                    1,
                    1,
                    1,
                    1,
                    1,
                    1
                  ]
                },
                {
                  "histfunc": "avg",
                  "name": "2",
                  "type": "histogram",
                  "x": [
                    3,
                    1,
                    2,
                    2,
                    3,
                    3,
                    3,
                    3,
                    2,
                    1,
                    3,
                    3,
                    1,
                    3,
                    3,
                    2,
                    3,
                    3,
                    3,
                    3,
                    3,
                    3,
                    3,
                    3,
                    2,
                    2,
                    3,
                    3,
                    3,
                    1,
                    1,
                    1,
                    1,
                    3,
                    1,
                    1,
                    3,
                    3,
                    1,
                    3,
                    2,
                    3,
                    1,
                    3,
                    1,
                    2,
                    2,
                    3,
                    1,
                    2,
                    3,
                    2,
                    1,
                    1,
                    3,
                    3,
                    1,
                    1,
                    3,
                    2,
                    2,
                    3,
                    3,
                    1,
                    3,
                    2,
                    1,
                    2,
                    1,
                    3,
                    3,
                    3,
                    1,
                    3,
                    3,
                    2,
                    3,
                    3,
                    3,
                    3
                  ],
                  "y": [
                    1,
                    0,
                    1,
                    1,
                    0,
                    0,
                    1,
                    0,
                    1,
                    1,
                    0,
                    0,
                    1,
                    0,
                    0,
                    0,
                    0,
                    0,
                    1,
                    0,
                    0,
                    1,
                    0,
                    1,
                    1,
                    1,
                    0,
                    1,
                    1,
                    0,
                    1,
                    1,
                    1,
                    0,
                    1,
                    0,
                    1,
                    0,
                    1,
                    1,
                    1,
                    0,
                    1,
                    0,
                    1,
                    0,
                    1,
                    0,
                    0,
                    1,
                    1,
                    1,
                    1,
                    1,
                    0,
                    0,
                    1,
                    1,
                    0,
                    1,
                    1,
                    0,
                    0,
                    0,
                    0,
                    0,
                    1,
                    1,
                    1,
                    0,
                    1,
                    0,
                    1,
                    0,
                    0,
                    1,
                    0,
                    0,
                    0,
                    0
                  ]
                },
                {
                  "histfunc": "avg",
                  "name": "3",
                  "type": "histogram",
                  "x": [
                    3,
                    2,
                    3,
                    2,
                    3
                  ],
                  "y": [
                    0,
                    1,
                    0,
                    1,
                    1
                  ]
                },
                {
                  "histfunc": "avg",
                  "name": "4",
                  "type": "histogram",
                  "x": [
                    3,
                    3,
                    1,
                    3
                  ],
                  "y": [
                    0,
                    0,
                    0,
                    0
                  ]
                },
                {
                  "histfunc": "avg",
                  "name": "5",
                  "type": "histogram",
                  "x": [
                    3,
                    3,
                    3,
                    3,
                    3
                  ],
                  "y": [
                    0,
                    1,
                    0,
                    0,
                    0
                  ]
                },
                {
                  "histfunc": "avg",
                  "name": "6",
                  "type": "histogram",
                  "x": [
                    3
                  ],
                  "y": [
                    0
                  ]
                }
              ],
              "layout": {
                "legend": {
                  "title": {
                    "text": "Parch"
                  }
                },
                "template": {
                  "data": {
                    "bar": [
                      {
                        "error_x": {
                          "color": "#2a3f5f"
                        },
                        "error_y": {
                          "color": "#2a3f5f"
                        },
                        "marker": {
                          "line": {
                            "color": "white",
                            "width": 0.5
                          },
                          "pattern": {
                            "fillmode": "overlay",
                            "size": 10,
                            "solidity": 0.2
                          }
                        },
                        "type": "bar"
                      }
                    ],
                    "barpolar": [
                      {
                        "marker": {
                          "line": {
                            "color": "white",
                            "width": 0.5
                          },
                          "pattern": {
                            "fillmode": "overlay",
                            "size": 10,
                            "solidity": 0.2
                          }
                        },
                        "type": "barpolar"
                      }
                    ],
                    "box": [
                      {
                        "boxpoints": "outliers",
                        "notched": false,
                        "type": "box"
                      }
                    ],
                    "carpet": [
                      {
                        "aaxis": {
                          "endlinecolor": "#2a3f5f",
                          "gridcolor": "#C8D4E3",
                          "linecolor": "#C8D4E3",
                          "minorgridcolor": "#C8D4E3",
                          "startlinecolor": "#2a3f5f"
                        },
                        "baxis": {
                          "endlinecolor": "#2a3f5f",
                          "gridcolor": "#C8D4E3",
                          "linecolor": "#C8D4E3",
                          "minorgridcolor": "#C8D4E3",
                          "startlinecolor": "#2a3f5f"
                        },
                        "type": "carpet"
                      }
                    ],
                    "choropleth": [
                      {
                        "colorbar": {
                          "outlinewidth": 0,
                          "ticks": ""
                        },
                        "type": "choropleth"
                      }
                    ],
                    "contour": [
                      {
                        "colorbar": {
                          "outlinewidth": 0,
                          "ticks": ""
                        },
                        "colorscale": [
                          [
                            0,
                            "#0d0887"
                          ],
                          [
                            0.1111111111111111,
                            "#46039f"
                          ],
                          [
                            0.2222222222222222,
                            "#7201a8"
                          ],
                          [
                            0.3333333333333333,
                            "#9c179e"
                          ],
                          [
                            0.4444444444444444,
                            "#bd3786"
                          ],
                          [
                            0.5555555555555556,
                            "#d8576b"
                          ],
                          [
                            0.6666666666666666,
                            "#ed7953"
                          ],
                          [
                            0.7777777777777778,
                            "#fb9f3a"
                          ],
                          [
                            0.8888888888888888,
                            "#fdca26"
                          ],
                          [
                            1,
                            "#f0f921"
                          ]
                        ],
                        "type": "contour"
                      }
                    ],
                    "contourcarpet": [
                      {
                        "colorbar": {
                          "outlinewidth": 0,
                          "ticks": ""
                        },
                        "type": "contourcarpet"
                      }
                    ],
                    "heatmap": [
                      {
                        "colorbar": {
                          "outlinewidth": 0,
                          "ticks": ""
                        },
                        "colorscale": [
                          [
                            0,
                            "#0d0887"
                          ],
                          [
                            0.1111111111111111,
                            "#46039f"
                          ],
                          [
                            0.2222222222222222,
                            "#7201a8"
                          ],
                          [
                            0.3333333333333333,
                            "#9c179e"
                          ],
                          [
                            0.4444444444444444,
                            "#bd3786"
                          ],
                          [
                            0.5555555555555556,
                            "#d8576b"
                          ],
                          [
                            0.6666666666666666,
                            "#ed7953"
                          ],
                          [
                            0.7777777777777778,
                            "#fb9f3a"
                          ],
                          [
                            0.8888888888888888,
                            "#fdca26"
                          ],
                          [
                            1,
                            "#f0f921"
                          ]
                        ],
                        "type": "heatmap"
                      }
                    ],
                    "heatmapgl": [
                      {
                        "colorbar": {
                          "outlinewidth": 0,
                          "ticks": ""
                        },
                        "colorscale": [
                          [
                            0,
                            "#0d0887"
                          ],
                          [
                            0.1111111111111111,
                            "#46039f"
                          ],
                          [
                            0.2222222222222222,
                            "#7201a8"
                          ],
                          [
                            0.3333333333333333,
                            "#9c179e"
                          ],
                          [
                            0.4444444444444444,
                            "#bd3786"
                          ],
                          [
                            0.5555555555555556,
                            "#d8576b"
                          ],
                          [
                            0.6666666666666666,
                            "#ed7953"
                          ],
                          [
                            0.7777777777777778,
                            "#fb9f3a"
                          ],
                          [
                            0.8888888888888888,
                            "#fdca26"
                          ],
                          [
                            1,
                            "#f0f921"
                          ]
                        ],
                        "type": "heatmapgl"
                      }
                    ],
                    "histogram": [
                      {
                        "marker": {
                          "line": {
                            "width": 1
                          },
                          "pattern": {
                            "fillmode": "overlay",
                            "size": 10,
                            "solidity": 0.2
                          }
                        },
                        "type": "histogram"
                      }
                    ],
                    "histogram2d": [
                      {
                        "colorbar": {
                          "outlinewidth": 0,
                          "ticks": ""
                        },
                        "colorscale": [
                          [
                            0,
                            "#0d0887"
                          ],
                          [
                            0.1111111111111111,
                            "#46039f"
                          ],
                          [
                            0.2222222222222222,
                            "#7201a8"
                          ],
                          [
                            0.3333333333333333,
                            "#9c179e"
                          ],
                          [
                            0.4444444444444444,
                            "#bd3786"
                          ],
                          [
                            0.5555555555555556,
                            "#d8576b"
                          ],
                          [
                            0.6666666666666666,
                            "#ed7953"
                          ],
                          [
                            0.7777777777777778,
                            "#fb9f3a"
                          ],
                          [
                            0.8888888888888888,
                            "#fdca26"
                          ],
                          [
                            1,
                            "#f0f921"
                          ]
                        ],
                        "type": "histogram2d"
                      }
                    ],
                    "histogram2dcontour": [
                      {
                        "colorbar": {
                          "outlinewidth": 0,
                          "ticks": ""
                        },
                        "colorscale": [
                          [
                            0,
                            "#0d0887"
                          ],
                          [
                            0.1111111111111111,
                            "#46039f"
                          ],
                          [
                            0.2222222222222222,
                            "#7201a8"
                          ],
                          [
                            0.3333333333333333,
                            "#9c179e"
                          ],
                          [
                            0.4444444444444444,
                            "#bd3786"
                          ],
                          [
                            0.5555555555555556,
                            "#d8576b"
                          ],
                          [
                            0.6666666666666666,
                            "#ed7953"
                          ],
                          [
                            0.7777777777777778,
                            "#fb9f3a"
                          ],
                          [
                            0.8888888888888888,
                            "#fdca26"
                          ],
                          [
                            1,
                            "#f0f921"
                          ]
                        ],
                        "type": "histogram2dcontour"
                      }
                    ],
                    "mesh3d": [
                      {
                        "colorbar": {
                          "outlinewidth": 0,
                          "ticks": ""
                        },
                        "type": "mesh3d"
                      }
                    ],
                    "parcoords": [
                      {
                        "line": {
                          "colorbar": {
                            "outlinewidth": 0,
                            "ticks": ""
                          }
                        },
                        "type": "parcoords"
                      }
                    ],
                    "pie": [
                      {
                        "automargin": true,
                        "type": "pie"
                      }
                    ],
                    "scatter": [
                      {
                        "fillpattern": {
                          "fillmode": "overlay",
                          "size": 10,
                          "solidity": 0.2
                        },
                        "marker": {
                          "opacity": 0.8
                        },
                        "type": "scatter"
                      }
                    ],
                    "scatter3d": [
                      {
                        "line": {
                          "colorbar": {
                            "outlinewidth": 0,
                            "ticks": ""
                          }
                        },
                        "marker": {
                          "colorbar": {
                            "outlinewidth": 0,
                            "ticks": ""
                          },
                          "opacity": 0.8
                        },
                        "type": "scatter3d"
                      }
                    ],
                    "scattercarpet": [
                      {
                        "marker": {
                          "colorbar": {
                            "outlinewidth": 0,
                            "ticks": ""
                          }
                        },
                        "type": "scattercarpet"
                      }
                    ],
                    "scattergeo": [
                      {
                        "marker": {
                          "colorbar": {
                            "outlinewidth": 0,
                            "ticks": ""
                          }
                        },
                        "type": "scattergeo"
                      }
                    ],
                    "scattergl": [
                      {
                        "marker": {
                          "colorbar": {
                            "outlinewidth": 0,
                            "ticks": ""
                          }
                        },
                        "type": "scattergl"
                      }
                    ],
                    "scattermapbox": [
                      {
                        "marker": {
                          "colorbar": {
                            "outlinewidth": 0,
                            "ticks": ""
                          }
                        },
                        "type": "scattermapbox"
                      }
                    ],
                    "scatterpolar": [
                      {
                        "marker": {
                          "colorbar": {
                            "outlinewidth": 0,
                            "ticks": ""
                          }
                        },
                        "type": "scatterpolar"
                      }
                    ],
                    "scatterpolargl": [
                      {
                        "marker": {
                          "colorbar": {
                            "outlinewidth": 0,
                            "ticks": ""
                          }
                        },
                        "type": "scatterpolargl"
                      }
                    ],
                    "scatterternary": [
                      {
                        "marker": {
                          "colorbar": {
                            "outlinewidth": 0,
                            "ticks": ""
                          }
                        },
                        "type": "scatterternary"
                      }
                    ],
                    "surface": [
                      {
                        "colorbar": {
                          "outlinewidth": 0,
                          "ticks": ""
                        },
                        "colorscale": [
                          [
                            0,
                            "#0d0887"
                          ],
                          [
                            0.1111111111111111,
                            "#46039f"
                          ],
                          [
                            0.2222222222222222,
                            "#7201a8"
                          ],
                          [
                            0.3333333333333333,
                            "#9c179e"
                          ],
                          [
                            0.4444444444444444,
                            "#bd3786"
                          ],
                          [
                            0.5555555555555556,
                            "#d8576b"
                          ],
                          [
                            0.6666666666666666,
                            "#ed7953"
                          ],
                          [
                            0.7777777777777778,
                            "#fb9f3a"
                          ],
                          [
                            0.8888888888888888,
                            "#fdca26"
                          ],
                          [
                            1,
                            "#f0f921"
                          ]
                        ],
                        "type": "surface"
                      }
                    ],
                    "table": [
                      {
                        "cells": {
                          "fill": {
                            "color": "#EBF0F8"
                          },
                          "line": {
                            "color": "white"
                          }
                        },
                        "header": {
                          "fill": {
                            "color": "#C8D4E3"
                          },
                          "line": {
                            "color": "white"
                          }
                        },
                        "type": "table"
                      }
                    ]
                  },
                  "layout": {
                    "annotationdefaults": {
                      "arrowcolor": "#2a3f5f",
                      "arrowhead": 0,
                      "arrowwidth": 1
                    },
                    "autotypenumbers": "strict",
                    "coloraxis": {
                      "colorbar": {
                        "outlinewidth": 0,
                        "ticks": ""
                      }
                    },
                    "colorscale": {
                      "diverging": [
                        [
                          0,
                          "#8e0152"
                        ],
                        [
                          0.1,
                          "#c51b7d"
                        ],
                        [
                          0.2,
                          "#de77ae"
                        ],
                        [
                          0.3,
                          "#f1b6da"
                        ],
                        [
                          0.4,
                          "#fde0ef"
                        ],
                        [
                          0.5,
                          "#f7f7f7"
                        ],
                        [
                          0.6,
                          "#e6f5d0"
                        ],
                        [
                          0.7,
                          "#b8e186"
                        ],
                        [
                          0.8,
                          "#7fbc41"
                        ],
                        [
                          0.9,
                          "#4d9221"
                        ],
                        [
                          1,
                          "#276419"
                        ]
                      ],
                      "sequential": [
                        [
                          0,
                          "#0d0887"
                        ],
                        [
                          0.1111111111111111,
                          "#46039f"
                        ],
                        [
                          0.2222222222222222,
                          "#7201a8"
                        ],
                        [
                          0.3333333333333333,
                          "#9c179e"
                        ],
                        [
                          0.4444444444444444,
                          "#bd3786"
                        ],
                        [
                          0.5555555555555556,
                          "#d8576b"
                        ],
                        [
                          0.6666666666666666,
                          "#ed7953"
                        ],
                        [
                          0.7777777777777778,
                          "#fb9f3a"
                        ],
                        [
                          0.8888888888888888,
                          "#fdca26"
                        ],
                        [
                          1,
                          "#f0f921"
                        ]
                      ],
                      "sequentialminus": [
                        [
                          0,
                          "#0d0887"
                        ],
                        [
                          0.1111111111111111,
                          "#46039f"
                        ],
                        [
                          0.2222222222222222,
                          "#7201a8"
                        ],
                        [
                          0.3333333333333333,
                          "#9c179e"
                        ],
                        [
                          0.4444444444444444,
                          "#bd3786"
                        ],
                        [
                          0.5555555555555556,
                          "#d8576b"
                        ],
                        [
                          0.6666666666666666,
                          "#ed7953"
                        ],
                        [
                          0.7777777777777778,
                          "#fb9f3a"
                        ],
                        [
                          0.8888888888888888,
                          "#fdca26"
                        ],
                        [
                          1,
                          "#f0f921"
                        ]
                      ]
                    },
                    "colorway": [
                      "#636efa",
                      "#EF553B",
                      "#00cc96",
                      "#ab63fa",
                      "#FFA15A",
                      "#19d3f3",
                      "#FF6692",
                      "#B6E880",
                      "#FF97FF",
                      "#FECB52"
                    ],
                    "font": {
                      "color": "#2a3f5f"
                    },
                    "geo": {
                      "bgcolor": "white",
                      "lakecolor": "white",
                      "landcolor": "white",
                      "showlakes": true,
                      "showland": true,
                      "subunitcolor": "#C8D4E3"
                    },
                    "height": 400,
                    "hoverlabel": {
                      "align": "left"
                    },
                    "hovermode": "closest",
                    "mapbox": {
                      "style": "light"
                    },
                    "margin": {
                      "b": 2,
                      "l": 2,
                      "r": 2,
                      "t": 30
                    },
                    "paper_bgcolor": "white",
                    "plot_bgcolor": "white",
                    "polar": {
                      "angularaxis": {
                        "gridcolor": "#EBF0F8",
                        "linecolor": "#EBF0F8",
                        "ticks": ""
                      },
                      "bgcolor": "white",
                      "radialaxis": {
                        "gridcolor": "#EBF0F8",
                        "linecolor": "#EBF0F8",
                        "ticks": ""
                      }
                    },
                    "scene": {
                      "camera": {
                        "eye": {
                          "x": 1.5,
                          "y": 1.5,
                          "z": 0.1
                        }
                      },
                      "xaxis": {
                        "backgroundcolor": "white",
                        "gridcolor": "#DFE8F3",
                        "gridwidth": 2,
                        "linecolor": "#EBF0F8",
                        "showbackground": true,
                        "ticks": "",
                        "zerolinecolor": "#EBF0F8"
                      },
                      "yaxis": {
                        "backgroundcolor": "white",
                        "gridcolor": "#DFE8F3",
                        "gridwidth": 2,
                        "linecolor": "#EBF0F8",
                        "showbackground": true,
                        "ticks": "",
                        "zerolinecolor": "#EBF0F8"
                      },
                      "zaxis": {
                        "backgroundcolor": "white",
                        "gridcolor": "#DFE8F3",
                        "gridwidth": 2,
                        "linecolor": "#EBF0F8",
                        "showbackground": true,
                        "ticks": "",
                        "zerolinecolor": "#EBF0F8"
                      }
                    },
                    "shapedefaults": {
                      "line": {
                        "color": "#2a3f5f"
                      }
                    },
                    "ternary": {
                      "aaxis": {
                        "gridcolor": "#DFE8F3",
                        "linecolor": "#A2B1C6",
                        "ticks": ""
                      },
                      "baxis": {
                        "gridcolor": "#DFE8F3",
                        "linecolor": "#A2B1C6",
                        "ticks": ""
                      },
                      "bgcolor": "white",
                      "caxis": {
                        "gridcolor": "#DFE8F3",
                        "linecolor": "#A2B1C6",
                        "ticks": ""
                      }
                    },
                    "title": {
                      "x": 0.5
                    },
                    "xaxis": {
                      "automargin": true,
                      "gridcolor": "#EBF0F8",
                      "linecolor": "#EBF0F8",
                      "linewidth": 2,
                      "showline": true,
                      "ticks": "",
                      "title": {
                        "standoff": 15
                      },
                      "zerolinecolor": "#EBF0F8",
                      "zerolinewidth": 2
                    },
                    "yaxis": {
                      "automargin": true,
                      "gridcolor": "#EBF0F8",
                      "linecolor": "#EBF0F8",
                      "linewidth": 2,
                      "showline": true,
                      "ticks": "",
                      "title": {
                        "standoff": 15
                      },
                      "zerolinecolor": "#EBF0F8",
                      "zerolinewidth": 2
                    }
                  }
                },
                "xaxis": {
                  "title": {
                    "text": "Pclass"
                  }
                },
                "yaxis": {
                  "title": {
                    "text": "avg of Survived"
                  }
                }
              }
            },
            "text/html": "<div>                            <div id=\"22a5bac4-61e1-4334-a356-3177919fa7a4\" class=\"plotly-graph-div\" style=\"height:400px; width:100%;\"></div>            <script type=\"text/javascript\">                require([\"plotly\"], function(Plotly) {                    window.PLOTLYENV=window.PLOTLYENV || {};                                    if (document.getElementById(\"22a5bac4-61e1-4334-a356-3177919fa7a4\")) {                    Plotly.newPlot(                        \"22a5bac4-61e1-4334-a356-3177919fa7a4\",                        [{\"histfunc\":\"avg\",\"name\":\"0\",\"x\":[3,1,3,1,3,3,1,2,1,3,3,2,2,3,3,2,2,3,1,3,3,3,1,1,3,2,1,1,3,3,3,3,3,2,3,3,3,3,3,3,3,3,1,2,1,2,3,3,1,1,1,2,3,3,2,2,3,3,3,3,3,3,3,3,3,1,2,3,3,3,3,3,1,3,3,1,2,3,3,3,3,3,3,3,3,3,1,3,3,3,3,3,3,2,2,3,2,2,3,3,3,3,3,3,3,2,2,2,1,3,1,3,3,3,2,3,2,2,1,3,3,3,3,3,2,3,3,1,3,1,3,1,1,2,3,2,1,3,1,3,2,2,3,1,1,3,3,2,3,3,3,3,3,3,3,1,3,2,3,2,3,1,3,2,1,2,3,2,3,3,1,3,2,3,2,1,3,2,2,3,2,2,2,3,3,2,3,3,1,3,2,3,1,3,1,1,1,3,1,3,2,3,1,1,3,3,1,3,2,3,3,3,3,1,3,3,3,2,3,1,1,2,3,3,1,3,1,3,3,3,2,3,1,1,2,1,1,3,3,2,2,3,3,2,1,3,2,3,1,3,1,3,1,1,3,1,2,2,2,2,2,3,3,3,1,3,3,3,2,3,3,2,3,3,3,1,3,3,1,1,3,3,1,1,3,3,3,1,3,1,3,2,2,3,2,3,3,1,3,3,2,2,2,3,3,3,3,3,2,3,3,3,3,1,2,3,3,2,3,3,3,3,2,2,3,3,1,3,2,3,1,2,3,3,2,3,1,1,3,1,1,3,3,1,1,2,3,1,3,1,2,3,3,2,1,3,3,3,2,3,1,2,3,3,2,3,3,1,1,1,3,3,3,1,1,3,3,1,3,3,3,3,3,3,1,1,1,3,3,3,3,1,1,3,1,2,3,2,3,1,3,3,3,3,2,1,3,3,3,1,1,3,2,1,1,2,2,2,3,3,3,1,1,1,3,3,3,2,3,3,3,3,3,3,2,1,1,3,3,3,2,1,3,3,2,1,3,2,3,3,3,1,3,2,2,3,3,1,3,1,3,1,3,3,1,1,3,3,3,3,3,2,3,1,3,3,1,2,1,3,3,1,3,1,1,2,3,3,3,1,3,1,3,1,3,3,3,3,3,3,2,3,2,1,3,1,3,3,2,2,3,3,1,1,2,2,2,3,3,3,3,1,3,3,3,1,3,3,1,2,3,3,3,1,1,3,3,2,2,1,1,1,1,1,3,2,3,1,2,3,3,3,2,2,1,3,2,3,2,3,1,3,2,2,2,3,1,3,3,1,1,3,3,2,1,3,3,3,3,2,3,1,3,3,3,3,1,1,3,3,3,3,3,2,3,3,3,3,3,3,1,1,3,3,3,1,3,2,1,3,2,1,3,3,2,3,3,1,3,2,1,3,3,2,3,1,3,3,3,1,3,3,3,1,3,3,3,3,3,3,3,1,3,2,1,3,3,3,3,1,3,2,1,3,3,2,1,2,2,2,1,3,3,1,3,2,3,3,3,3,3,3,2,3,2,1,1,3],\"y\":[0,1,1,1,0,0,0,1,1,0,0,1,1,0,1,0,1,1,1,0,1,0,0,1,1,0,0,0,1,0,0,1,0,0,0,1,0,0,1,0,0,0,1,1,1,1,0,0,1,0,0,1,0,0,0,0,0,1,0,0,0,1,0,1,1,0,1,1,0,0,0,0,0,0,0,0,0,0,0,0,0,0,1,1,0,1,0,0,0,0,0,0,0,0,0,0,0,1,1,0,1,0,0,0,0,1,0,0,0,0,0,1,1,0,0,1,0,0,1,0,0,1,0,0,1,0,0,0,0,0,0,0,0,0,0,0,0,1,1,0,1,0,1,1,1,0,1,0,0,0,0,1,0,1,1,1,0,1,0,0,0,1,1,0,1,0,1,0,0,0,1,0,1,0,0,1,0,0,0,0,0,0,0,0,1,0,0,0,0,0,0,0,0,0,1,1,1,0,0,0,0,1,1,0,1,1,1,0,0,0,0,0,1,0,0,1,0,1,1,1,1,0,0,0,0,0,1,1,1,0,1,0,1,1,0,1,1,0,1,1,0,0,0,1,1,0,1,1,0,0,1,0,0,1,1,0,0,0,0,1,1,1,0,0,0,0,0,0,0,1,1,0,0,0,0,1,1,1,1,1,0,0,0,1,1,0,0,1,0,1,0,0,1,0,1,1,0,1,0,0,0,0,1,1,0,0,0,0,0,0,0,0,0,1,0,1,0,0,0,0,0,0,1,1,0,1,1,1,1,0,0,0,0,0,1,1,1,1,0,0,1,0,1,0,1,1,0,1,0,0,0,0,0,0,0,0,0,0,1,0,0,0,0,0,0,0,1,1,1,0,0,0,0,0,0,0,0,1,0,0,0,0,0,0,1,0,1,0,1,1,0,1,1,0,0,1,0,1,0,1,0,0,0,0,1,0,0,0,0,0,1,0,1,0,0,1,1,0,0,1,1,0,1,0,1,0,0,0,0,0,0,0,0,1,1,1,1,1,0,0,1,1,0,1,0,0,0,0,0,0,0,1,0,0,1,0,0,1,0,0,0,1,0,0,1,1,0,1,0,0,0,0,0,1,0,0,0,0,1,0,0,1,0,1,0,1,0,0,0,1,1,1,0,1,0,1,0,0,1,0,0,0,0,1,0,0,0,1,0,0,0,0,1,0,0,1,0,0,0,1,0,1,0,0,0,1,1,0,0,0,0,1,0,1,1,0,0,0,1,1,1,1,0,1,0,0,0,1,1,0,0,0,0,0,1,0,1,1,0,0,1,0,0,0,0,0,1,0,0,1,0,0,1,1,0,0,0,0,0,0,0,1,0,0,1,0,1,0,0,0,0,0,0,0,0,0,0,1,0,1,1,0,0,0,1,0,0,0,0,0,0,1,1,0,0,1,0,0,0,0,1,0,0,0,0,0,0,0,1,0,0,0,1,1,1,0,0,0,0,0,1,1,0,0,1,0,0,0,0,1,0,0,1,0,0,0,1,0,1,1,0,0,0,0,0,1,1,0,0,0,0,0,0,0,0,1,1,0],\"type\":\"histogram\"},{\"histfunc\":\"avg\",\"name\":\"1\",\"x\":[3,3,3,3,3,1,3,1,2,1,1,1,3,2,1,3,3,1,3,3,3,3,2,3,2,3,3,3,1,3,2,1,3,1,2,1,3,3,1,2,2,1,2,3,1,1,2,3,3,1,3,3,2,3,2,3,3,2,2,3,3,3,3,3,1,2,2,3,3,2,1,2,1,1,3,2,3,2,3,2,3,2,3,2,1,2,3,1,3,1,3,3,2,1,3,2,3,2,1,3,3,2,3,2,1,3,3,2,1,2,3,1,3,1,3,1,1,2],\"y\":[0,1,0,0,0,0,1,1,1,0,0,0,1,0,0,0,0,1,0,1,0,0,1,0,1,0,0,0,1,0,1,0,0,1,1,0,0,1,1,0,0,1,1,1,1,0,1,1,0,1,0,0,1,0,1,0,0,1,1,1,1,1,0,1,1,0,1,0,0,1,1,1,1,1,0,1,0,1,1,0,1,1,0,1,1,0,0,1,1,0,0,1,1,0,0,1,1,1,1,0,0,1,1,0,1,1,0,1,1,0,0,1,1,1,1,1,1,1],\"type\":\"histogram\"},{\"histfunc\":\"avg\",\"name\":\"2\",\"x\":[3,1,2,2,3,3,3,3,2,1,3,3,1,3,3,2,3,3,3,3,3,3,3,3,2,2,3,3,3,1,1,1,1,3,1,1,3,3,1,3,2,3,1,3,1,2,2,3,1,2,3,2,1,1,3,3,1,1,3,2,2,3,3,1,3,2,1,2,1,3,3,3,1,3,3,2,3,3,3,3],\"y\":[1,0,1,1,0,0,1,0,1,1,0,0,1,0,0,0,0,0,1,0,0,1,0,1,1,1,0,1,1,0,1,1,1,0,1,0,1,0,1,1,1,0,1,0,1,0,1,0,0,1,1,1,1,1,0,0,1,1,0,1,1,0,0,0,0,0,1,1,1,0,1,0,1,0,0,1,0,0,0,0],\"type\":\"histogram\"},{\"histfunc\":\"avg\",\"name\":\"3\",\"x\":[3,2,3,2,3],\"y\":[0,1,0,1,1],\"type\":\"histogram\"},{\"histfunc\":\"avg\",\"name\":\"4\",\"x\":[3,3,1,3],\"y\":[0,0,0,0],\"type\":\"histogram\"},{\"histfunc\":\"avg\",\"name\":\"5\",\"x\":[3,3,3,3,3],\"y\":[0,1,0,0,0],\"type\":\"histogram\"},{\"histfunc\":\"avg\",\"name\":\"6\",\"x\":[3],\"y\":[0],\"type\":\"histogram\"}],                        {\"xaxis\":{\"title\":{\"text\":\"Pclass\"}},\"yaxis\":{\"title\":{\"text\":\"avg of Survived\"}},\"template\":{\"data\":{\"barpolar\":[{\"marker\":{\"line\":{\"color\":\"white\",\"width\":0.5},\"pattern\":{\"fillmode\":\"overlay\",\"size\":10,\"solidity\":0.2}},\"type\":\"barpolar\"}],\"bar\":[{\"error_x\":{\"color\":\"#2a3f5f\"},\"error_y\":{\"color\":\"#2a3f5f\"},\"marker\":{\"line\":{\"color\":\"white\",\"width\":0.5},\"pattern\":{\"fillmode\":\"overlay\",\"size\":10,\"solidity\":0.2}},\"type\":\"bar\"}],\"carpet\":[{\"aaxis\":{\"endlinecolor\":\"#2a3f5f\",\"gridcolor\":\"#C8D4E3\",\"linecolor\":\"#C8D4E3\",\"minorgridcolor\":\"#C8D4E3\",\"startlinecolor\":\"#2a3f5f\"},\"baxis\":{\"endlinecolor\":\"#2a3f5f\",\"gridcolor\":\"#C8D4E3\",\"linecolor\":\"#C8D4E3\",\"minorgridcolor\":\"#C8D4E3\",\"startlinecolor\":\"#2a3f5f\"},\"type\":\"carpet\"}],\"choropleth\":[{\"colorbar\":{\"outlinewidth\":0,\"ticks\":\"\"},\"type\":\"choropleth\"}],\"contourcarpet\":[{\"colorbar\":{\"outlinewidth\":0,\"ticks\":\"\"},\"type\":\"contourcarpet\"}],\"contour\":[{\"colorbar\":{\"outlinewidth\":0,\"ticks\":\"\"},\"colorscale\":[[0.0,\"#0d0887\"],[0.1111111111111111,\"#46039f\"],[0.2222222222222222,\"#7201a8\"],[0.3333333333333333,\"#9c179e\"],[0.4444444444444444,\"#bd3786\"],[0.5555555555555556,\"#d8576b\"],[0.6666666666666666,\"#ed7953\"],[0.7777777777777778,\"#fb9f3a\"],[0.8888888888888888,\"#fdca26\"],[1.0,\"#f0f921\"]],\"type\":\"contour\"}],\"heatmapgl\":[{\"colorbar\":{\"outlinewidth\":0,\"ticks\":\"\"},\"colorscale\":[[0.0,\"#0d0887\"],[0.1111111111111111,\"#46039f\"],[0.2222222222222222,\"#7201a8\"],[0.3333333333333333,\"#9c179e\"],[0.4444444444444444,\"#bd3786\"],[0.5555555555555556,\"#d8576b\"],[0.6666666666666666,\"#ed7953\"],[0.7777777777777778,\"#fb9f3a\"],[0.8888888888888888,\"#fdca26\"],[1.0,\"#f0f921\"]],\"type\":\"heatmapgl\"}],\"heatmap\":[{\"colorbar\":{\"outlinewidth\":0,\"ticks\":\"\"},\"colorscale\":[[0.0,\"#0d0887\"],[0.1111111111111111,\"#46039f\"],[0.2222222222222222,\"#7201a8\"],[0.3333333333333333,\"#9c179e\"],[0.4444444444444444,\"#bd3786\"],[0.5555555555555556,\"#d8576b\"],[0.6666666666666666,\"#ed7953\"],[0.7777777777777778,\"#fb9f3a\"],[0.8888888888888888,\"#fdca26\"],[1.0,\"#f0f921\"]],\"type\":\"heatmap\"}],\"histogram2dcontour\":[{\"colorbar\":{\"outlinewidth\":0,\"ticks\":\"\"},\"colorscale\":[[0.0,\"#0d0887\"],[0.1111111111111111,\"#46039f\"],[0.2222222222222222,\"#7201a8\"],[0.3333333333333333,\"#9c179e\"],[0.4444444444444444,\"#bd3786\"],[0.5555555555555556,\"#d8576b\"],[0.6666666666666666,\"#ed7953\"],[0.7777777777777778,\"#fb9f3a\"],[0.8888888888888888,\"#fdca26\"],[1.0,\"#f0f921\"]],\"type\":\"histogram2dcontour\"}],\"histogram2d\":[{\"colorbar\":{\"outlinewidth\":0,\"ticks\":\"\"},\"colorscale\":[[0.0,\"#0d0887\"],[0.1111111111111111,\"#46039f\"],[0.2222222222222222,\"#7201a8\"],[0.3333333333333333,\"#9c179e\"],[0.4444444444444444,\"#bd3786\"],[0.5555555555555556,\"#d8576b\"],[0.6666666666666666,\"#ed7953\"],[0.7777777777777778,\"#fb9f3a\"],[0.8888888888888888,\"#fdca26\"],[1.0,\"#f0f921\"]],\"type\":\"histogram2d\"}],\"histogram\":[{\"marker\":{\"pattern\":{\"fillmode\":\"overlay\",\"size\":10,\"solidity\":0.2},\"line\":{\"width\":1}},\"type\":\"histogram\"}],\"mesh3d\":[{\"colorbar\":{\"outlinewidth\":0,\"ticks\":\"\"},\"type\":\"mesh3d\"}],\"parcoords\":[{\"line\":{\"colorbar\":{\"outlinewidth\":0,\"ticks\":\"\"}},\"type\":\"parcoords\"}],\"pie\":[{\"automargin\":true,\"type\":\"pie\"}],\"scatter3d\":[{\"line\":{\"colorbar\":{\"outlinewidth\":0,\"ticks\":\"\"}},\"marker\":{\"colorbar\":{\"outlinewidth\":0,\"ticks\":\"\"},\"opacity\":0.8},\"type\":\"scatter3d\"}],\"scattercarpet\":[{\"marker\":{\"colorbar\":{\"outlinewidth\":0,\"ticks\":\"\"}},\"type\":\"scattercarpet\"}],\"scattergeo\":[{\"marker\":{\"colorbar\":{\"outlinewidth\":0,\"ticks\":\"\"}},\"type\":\"scattergeo\"}],\"scattergl\":[{\"marker\":{\"colorbar\":{\"outlinewidth\":0,\"ticks\":\"\"}},\"type\":\"scattergl\"}],\"scattermapbox\":[{\"marker\":{\"colorbar\":{\"outlinewidth\":0,\"ticks\":\"\"}},\"type\":\"scattermapbox\"}],\"scatterpolargl\":[{\"marker\":{\"colorbar\":{\"outlinewidth\":0,\"ticks\":\"\"}},\"type\":\"scatterpolargl\"}],\"scatterpolar\":[{\"marker\":{\"colorbar\":{\"outlinewidth\":0,\"ticks\":\"\"}},\"type\":\"scatterpolar\"}],\"scatter\":[{\"fillpattern\":{\"fillmode\":\"overlay\",\"size\":10,\"solidity\":0.2},\"type\":\"scatter\",\"marker\":{\"opacity\":0.8}}],\"scatterternary\":[{\"marker\":{\"colorbar\":{\"outlinewidth\":0,\"ticks\":\"\"}},\"type\":\"scatterternary\"}],\"surface\":[{\"colorbar\":{\"outlinewidth\":0,\"ticks\":\"\"},\"colorscale\":[[0.0,\"#0d0887\"],[0.1111111111111111,\"#46039f\"],[0.2222222222222222,\"#7201a8\"],[0.3333333333333333,\"#9c179e\"],[0.4444444444444444,\"#bd3786\"],[0.5555555555555556,\"#d8576b\"],[0.6666666666666666,\"#ed7953\"],[0.7777777777777778,\"#fb9f3a\"],[0.8888888888888888,\"#fdca26\"],[1.0,\"#f0f921\"]],\"type\":\"surface\"}],\"table\":[{\"cells\":{\"fill\":{\"color\":\"#EBF0F8\"},\"line\":{\"color\":\"white\"}},\"header\":{\"fill\":{\"color\":\"#C8D4E3\"},\"line\":{\"color\":\"white\"}},\"type\":\"table\"}],\"box\":[{\"boxpoints\":\"outliers\",\"notched\":false,\"type\":\"box\"}]},\"layout\":{\"annotationdefaults\":{\"arrowcolor\":\"#2a3f5f\",\"arrowhead\":0,\"arrowwidth\":1},\"autotypenumbers\":\"strict\",\"coloraxis\":{\"colorbar\":{\"outlinewidth\":0,\"ticks\":\"\"}},\"colorscale\":{\"diverging\":[[0,\"#8e0152\"],[0.1,\"#c51b7d\"],[0.2,\"#de77ae\"],[0.3,\"#f1b6da\"],[0.4,\"#fde0ef\"],[0.5,\"#f7f7f7\"],[0.6,\"#e6f5d0\"],[0.7,\"#b8e186\"],[0.8,\"#7fbc41\"],[0.9,\"#4d9221\"],[1,\"#276419\"]],\"sequential\":[[0.0,\"#0d0887\"],[0.1111111111111111,\"#46039f\"],[0.2222222222222222,\"#7201a8\"],[0.3333333333333333,\"#9c179e\"],[0.4444444444444444,\"#bd3786\"],[0.5555555555555556,\"#d8576b\"],[0.6666666666666666,\"#ed7953\"],[0.7777777777777778,\"#fb9f3a\"],[0.8888888888888888,\"#fdca26\"],[1.0,\"#f0f921\"]],\"sequentialminus\":[[0.0,\"#0d0887\"],[0.1111111111111111,\"#46039f\"],[0.2222222222222222,\"#7201a8\"],[0.3333333333333333,\"#9c179e\"],[0.4444444444444444,\"#bd3786\"],[0.5555555555555556,\"#d8576b\"],[0.6666666666666666,\"#ed7953\"],[0.7777777777777778,\"#fb9f3a\"],[0.8888888888888888,\"#fdca26\"],[1.0,\"#f0f921\"]]},\"colorway\":[\"#636efa\",\"#EF553B\",\"#00cc96\",\"#ab63fa\",\"#FFA15A\",\"#19d3f3\",\"#FF6692\",\"#B6E880\",\"#FF97FF\",\"#FECB52\"],\"font\":{\"color\":\"#2a3f5f\"},\"geo\":{\"bgcolor\":\"white\",\"lakecolor\":\"white\",\"landcolor\":\"white\",\"showlakes\":true,\"showland\":true,\"subunitcolor\":\"#C8D4E3\"},\"hoverlabel\":{\"align\":\"left\"},\"hovermode\":\"closest\",\"mapbox\":{\"style\":\"light\"},\"paper_bgcolor\":\"white\",\"plot_bgcolor\":\"white\",\"polar\":{\"angularaxis\":{\"gridcolor\":\"#EBF0F8\",\"linecolor\":\"#EBF0F8\",\"ticks\":\"\"},\"bgcolor\":\"white\",\"radialaxis\":{\"gridcolor\":\"#EBF0F8\",\"linecolor\":\"#EBF0F8\",\"ticks\":\"\"}},\"scene\":{\"xaxis\":{\"backgroundcolor\":\"white\",\"gridcolor\":\"#DFE8F3\",\"gridwidth\":2,\"linecolor\":\"#EBF0F8\",\"showbackground\":true,\"ticks\":\"\",\"zerolinecolor\":\"#EBF0F8\"},\"yaxis\":{\"backgroundcolor\":\"white\",\"gridcolor\":\"#DFE8F3\",\"gridwidth\":2,\"linecolor\":\"#EBF0F8\",\"showbackground\":true,\"ticks\":\"\",\"zerolinecolor\":\"#EBF0F8\"},\"zaxis\":{\"backgroundcolor\":\"white\",\"gridcolor\":\"#DFE8F3\",\"gridwidth\":2,\"linecolor\":\"#EBF0F8\",\"showbackground\":true,\"ticks\":\"\",\"zerolinecolor\":\"#EBF0F8\"},\"camera\":{\"eye\":{\"x\":1.5,\"y\":1.5,\"z\":0.1}}},\"shapedefaults\":{\"line\":{\"color\":\"#2a3f5f\"}},\"ternary\":{\"aaxis\":{\"gridcolor\":\"#DFE8F3\",\"linecolor\":\"#A2B1C6\",\"ticks\":\"\"},\"baxis\":{\"gridcolor\":\"#DFE8F3\",\"linecolor\":\"#A2B1C6\",\"ticks\":\"\"},\"bgcolor\":\"white\",\"caxis\":{\"gridcolor\":\"#DFE8F3\",\"linecolor\":\"#A2B1C6\",\"ticks\":\"\"}},\"title\":{\"x\":0.5},\"xaxis\":{\"automargin\":true,\"gridcolor\":\"#EBF0F8\",\"linecolor\":\"#EBF0F8\",\"ticks\":\"\",\"title\":{\"standoff\":15},\"zerolinecolor\":\"#EBF0F8\",\"zerolinewidth\":2,\"linewidth\":2,\"showline\":true},\"yaxis\":{\"automargin\":true,\"gridcolor\":\"#EBF0F8\",\"linecolor\":\"#EBF0F8\",\"ticks\":\"\",\"title\":{\"standoff\":15},\"zerolinecolor\":\"#EBF0F8\",\"zerolinewidth\":2,\"linewidth\":2,\"showline\":true},\"height\":400,\"margin\":{\"b\":2,\"l\":2,\"r\":2,\"t\":30}}},\"legend\":{\"title\":{\"text\":\"Parch\"}}},                        {\"responsive\": true}                    ).then(function(){\n                            \nvar gd = document.getElementById('22a5bac4-61e1-4334-a356-3177919fa7a4');\nvar x = new MutationObserver(function (mutations, observer) {{\n        var display = window.getComputedStyle(gd).display;\n        if (!display || display === 'none') {{\n            console.log([gd, 'removed!']);\n            Plotly.purge(gd);\n            observer.disconnect();\n        }}\n}});\n\n// Listen for the removal of the full notebook cells\nvar notebookContainer = gd.closest('#notebook-container');\nif (notebookContainer) {{\n    x.observe(notebookContainer, {childList: true});\n}}\n\n// Listen for the clearing of the current output cell\nvar outputEl = gd.closest('.output');\nif (outputEl) {{\n    x.observe(outputEl, {childList: true});\n}}\n\n                        })                };                });            </script>        </div>"
          },
          "metadata": {}
        }
      ],
      "execution_count": 7,
      "metadata": {
        "gather": {
          "logged": 1677523140454
        }
      }
    },
    {
      "cell_type": "markdown",
      "source": [
        "For first and second class ticket holders, people in larger family groups appear to have had better rates of survival. However, this doesn't seem to be the case for third class passengers.\n",
        "\n",
        "Lastly, let's see if those with different ticket types tended to be in different sized families. For data spread analysis, a box and whisker is a nice alternative to histograms.\n"
      ],
      "metadata": {}
    },
    {
      "cell_type": "code",
      "source": [
        "graphing.box_and_whisker(dataset, label_x=\"Pclass\", label_y=\"SibSp\")"
      ],
      "outputs": [],
      "execution_count": null,
      "metadata": {
        "gather": {
          "logged": 1677523183391
        }
      }
    },
    {
      "cell_type": "markdown",
      "source": [
        "Most values are zero. This shows that most people traveled without siblings and without a partner. There are no obvious differences in this value between the different ticket classes.\n",
        "\n",
        "## Visualising Continuous Data\n",
        "\n",
        "_Continuous_ data are usually best viewed using either:\n",
        "\n",
        "1. An XY scatter plot, especially for relationships between two continuous features\n",
        "2. Histograms or Box and Whisker plots, to look at the spread of data\n",
        "\n",
        "Our dataset has `Age` and `Fare` as continuous data columns. Let's view them:"
      ],
      "metadata": {}
    },
    {
      "cell_type": "code",
      "source": [
        "graphing.scatter_2D(dataset, label_x=\"Age\", label_y=\"Fare\")"
      ],
      "outputs": [],
      "execution_count": null,
      "metadata": {
        "gather": {
          "logged": 1677523739340
        }
      }
    },
    {
      "cell_type": "markdown",
      "source": [
        "We don't see an obvious relationship between `Age` and `Fare`. \n",
        "\n",
        "Does the cost of a fare, or the person's age, have any relationship with likelihood of survival?"
      ],
      "metadata": {}
    },
    {
      "cell_type": "code",
      "source": [
        "# Plot Fare vs Survival\n",
        "graphing.histogram(dataset, label_x=\"Fare\", label_y=\"Survived\", histfunc=\"avg\", nbins=30, title=\"Fare vs Survival\", include_boxplot=True, show=True)\n",
        "\n",
        "# Plot Age vs Survival\n",
        "graphing.histogram(dataset, label_x=\"Age\", label_y=\"Survived\", histfunc=\"avg\", title=\"Age vs Survival\", nbins=30, include_boxplot=True)\n"
      ],
      "outputs": [],
      "execution_count": null,
      "metadata": {
        "gather": {
          "logged": 1677523768533
        }
      }
    },
    {
      "cell_type": "markdown",
      "source": [
        "The boxplot (top) of the first figure shows us that most people held tickets that cost less than £25, and the histogram shows us that people with more expensive tickets tended to survive.\n",
        "\n",
        "Our second figure indicates passengers were about 30 years old on average, and that most children under 10 years old survived, unlike most adults.\n",
        "\n",
        "\n",
        "## Visualising Categorical Data\n",
        "\n",
        "Our Titanic dataset has the following _categorical_ columns:\n",
        "* `Sex` (Male, Female)\n",
        "* `Embarked` - the port of ambarkation (C, Q, or S)\n",
        "* `Cabin` (many options)\n",
        "* `Survival` (0 = no, 1 = yes)\n",
        "\n",
        "Categorical data are usually viewable in a similar way to ordinal data, but with data viewed as order-less groups. Alternatively, categories appear as colors, or groups, in other kinds of plots.\n",
        "\n",
        "Plotting categorical data against other categorical data shows how data is clustered. This is little more than a colored table. Let's do this now:"
      ],
      "metadata": {}
    },
    {
      "cell_type": "code",
      "source": [
        "import plotly.graph_objects as go\n",
        "import numpy as np\n",
        "\n",
        "# Create some simple functions\n",
        "# Read their descriptions to find out more \n",
        "def get_rows(sex, port):\n",
        "    '''Returns rows that match in terms of sex and embarkment port'''\n",
        "    return dataset[(dataset.Embarked == port) & (dataset.Sex == sex)]\n",
        "\n",
        "def proportion_survived(sex, port):\n",
        "    '''Returns the proportion of people meeting criteria who survived'''\n",
        "    survived = get_rows(sex, port).Survived\n",
        "    return np.mean(survived)\n",
        "\n",
        "# Make two columns of data - together these represent each combination\n",
        "# of sex and embarkment port\n",
        "sexes = [\"male\", \"male\", \"male\", \"female\",\"female\", \"female\"]\n",
        "ports = [\"C\", \"Q\", \"S\" ] * 2\n",
        "\n",
        "# Calculate the number of passengers at each port + sex combination\n",
        "passenger_count = [len(get_rows(sex, port)) for sex,port in zip(sexes, ports)]\n",
        "\n",
        "# Calculate the proportion of passengers from each port + sex combination who survived\n",
        "passenger_survival = [proportion_survived(sex, port) for sex,port in zip(sexes, ports)]\n",
        "\n",
        "# Combine into a single data frame\n",
        "table = pd.DataFrame(dict(\n",
        "    sex=sexes,\n",
        "    port=ports,\n",
        "    passenger_count=passenger_count,\n",
        "    passenger_survival_rate=passenger_survival\n",
        "))\n",
        "\n",
        "# Make a bubble plot\n",
        "# This is just a scatter plot but each entry in the plot \n",
        "# has a size and colour. We set colour to passenger_survival \n",
        "# and size to the number of passengers \n",
        "graphing.scatter_2D(table, \n",
        "                    label_colour=\"passenger_survival_rate\", \n",
        "                    label_size=\"passenger_count\", \n",
        "                    size_multiplier=0.3,\n",
        "                    title=\"Bubble Plot of Categorical Data\")"
      ],
      "outputs": [],
      "execution_count": null,
      "metadata": {
        "gather": {
          "logged": 1677523888702
        }
      }
    },
    {
      "cell_type": "markdown",
      "source": [
        "It appears that women have a much higher survival rate than men, but there were more men on the ship. \n",
        "\n",
        "We can also see that most people boarded at Port `S` (\"Southampton\"). It does seem that there is a weak relationship between the port of boarding and survival.\n",
        "\n",
        "## Summary\n",
        "\n",
        "You've learned about different types of data, and you practiced data exploration through graphs.\n",
        "\n",
        "Through these, we've discovered that some features are related to others, and that many features seem to influence the survival rate."
      ],
      "metadata": {}
    }
  ],
  "metadata": {
    "kernel_info": {
      "name": "python3"
    },
    "kernelspec": {
      "display_name": "Python 3 (ipykernel)",
      "language": "python",
      "name": "python3"
    },
    "language_info": {
      "codemirror_mode": {
        "name": "ipython",
        "version": 3
      },
      "file_extension": ".py",
      "mimetype": "text/x-python",
      "name": "python",
      "nbconvert_exporter": "python",
      "pygments_lexer": "ipython3",
      "version": "3.10.7"
    },
    "microsoft": {
      "ms_spell_check": {
        "ms_spell_check_language": "en"
      }
    },
    "nteract": {
      "version": "nteract-front-end@1.0.0"
    },
    "vscode": {
      "interpreter": {
        "hash": "d986dcce87f8efbe64f9555c9767535f3ea76b09442c50f327a793e0b4903fbe"
      }
    }
  },
  "nbformat": 4,
  "nbformat_minor": 2
}