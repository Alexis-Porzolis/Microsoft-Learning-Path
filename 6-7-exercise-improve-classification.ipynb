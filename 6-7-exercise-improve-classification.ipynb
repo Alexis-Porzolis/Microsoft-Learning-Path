{
  "cells": [
    {
      "cell_type": "markdown",
      "metadata": {},
      "source": [
        "# Exercise: Improving a logistic regression model\n",
        "\n",
        "In the previous exercise, we fit a simple logistic regression model to predict the chance of an avalanche. This time, we'll improve its performance by using multiple features intelligently.\n",
        "\n",
        "## Data visualisation\n",
        "\n",
        "Let's load our data."
      ]
    },
    {
      "cell_type": "code",
      "execution_count": 1,
      "metadata": {
        "scrolled": true
      },
      "outputs": [
        {
          "name": "stdout",
          "output_type": "stream",
          "text": [
            "Train size: 821\n",
            "Test size: 274\n",
            "     avalanche  no_visitors  surface_hoar  fresh_thickness  wind  weak_layers  \\\n",
            "176          0            9      5.142447         9.877195     6            8   \n",
            "114          1            3      8.170281         9.136835    34            7   \n",
            "869          0            3      1.979579         9.497017    10            8   \n",
            "775          1            0      1.999078         9.337908    21            6   \n",
            "181          1            9      6.854401         6.099359    22            5   \n",
            "\n",
            "     tracked_out  \n",
            "176            1  \n",
            "114            0  \n",
            "869            0  \n",
            "775            0  \n",
            "181            0  \n"
          ]
        }
      ],
      "source": [
        "import pandas as pd\n",
        "import graphing # custom graphing code. See our GitHub repo for details\n",
        "\n",
        "#Import the data from the .csv file\n",
        "dataset = pd.read_csv('https://raw.githubusercontent.com/MicrosoftDocs/mslearn-introduction-to-machine-learning/main/Data/avalanche.csv',\n",
        "                      delimiter=\"\\t\", index_col=0)\n",
        "\n",
        "# Split our data into training and test\n",
        "import sklearn.model_selection\n",
        "train, test = sklearn.model_selection.train_test_split(dataset, test_size=0.25, random_state=10)\n",
        "\n",
        "print(\"Train size:\", train.shape[0])\n",
        "print(\"Test size:\", test.shape[0])\n",
        "\n",
        "#Let's have a look at the data\n",
        "print(train.head())"
      ]
    },
    {
      "cell_type": "markdown",
      "metadata": {},
      "source": [
        "We have numerous features available:\n",
        "\n",
        "* `surface_hoar` is how disturbed the surface of the snow is\n",
        "* `fresh_thickness` is how thick the top layer of snow is, or 0 if there's no fresh snow on top\n",
        "* `wind` is the top wind speed that day, in km/h\n",
        "* `weak_layers` is the number of layers of snow that aren't well-bound to other layers\n",
        "* `no_visitors` is the number of hikers who were on the trail that day\n",
        "* `tracked_out` is a `1` or `0`. A `1` means that the snow has been trampled heavily by hikers \n",
        "\n",
        "## Simple logistic regression\n",
        "\n",
        "Let's make a simple logistic regression model and assess its performance with accuracy.\n",
        "\n"
      ]
    },
    {
      "cell_type": "code",
      "execution_count": 2,
      "metadata": {},
      "outputs": [
        {
          "name": "stdout",
          "output_type": "stream",
          "text": [
            "Optimization terminated successfully.\n",
            "         Current function value: 0.616312\n",
            "         Iterations 5\n",
            "Accuracy: 0.6167883211678832\n"
          ]
        }
      ],
      "source": [
        "import sklearn\n",
        "from sklearn.metrics import accuracy_score\n",
        "import statsmodels.formula.api as smf\n",
        "\n",
        "# Perform logistic regression.\n",
        "model = smf.logit(\"avalanche ~ weak_layers\", train).fit()\n",
        "\n",
        "# Calculate accuracy\n",
        "def calculate_accuracy(model):\n",
        "    '''\n",
        "    Calculates accuracy\n",
        "    '''\n",
        "    # Make estimations and convert to categories\n",
        "    avalanche_predicted = model.predict(test) > 0.5\n",
        "\n",
        "    # Calculate what proportion were predicted correctly\n",
        "    # We can use sklearn to calculate accuracy for us\n",
        "    print(\"Accuracy:\", accuracy_score(test.avalanche, avalanche_predicted))\n",
        "\n",
        "calculate_accuracy(model)"
      ]
    },
    {
      "cell_type": "markdown",
      "metadata": {},
      "source": [
        "Let's see how we can improve our model\n",
        "\n",
        "## Utilizing multiple features\n",
        "\n",
        "Most of our features seem like they could be useful, least in theory. Let's try a model with all features we've available."
      ]
    },
    {
      "cell_type": "code",
      "execution_count": 3,
      "metadata": {},
      "outputs": [
        {
          "name": "stdout",
          "output_type": "stream",
          "text": [
            "Optimization terminated successfully.\n",
            "         Current function value: 0.459347\n",
            "         Iterations 7\n",
            "Accuracy: 0.7846715328467153\n"
          ]
        }
      ],
      "source": [
        "# Perform logistic regression.\n",
        "model_all_features = smf.logit(\"avalanche ~ weak_layers + surface_hoar + fresh_thickness + wind + no_visitors + tracked_out\", train).fit()\n",
        "calculate_accuracy(model_all_features)"
      ]
    },
    {
      "cell_type": "markdown",
      "metadata": {},
      "source": [
        "That's a big improvement on the simpler model we've been working with. \n",
        "\n",
        "To understand why, we can look at the summary information"
      ]
    },
    {
      "cell_type": "code",
      "execution_count": 4,
      "metadata": {},
      "outputs": [
        {
          "data": {
            "text/html": [
              "<table class=\"simpletable\">\n",
              "<caption>Logit Regression Results</caption>\n",
              "<tr>\n",
              "  <th>Dep. Variable:</th>       <td>avalanche</td>    <th>  No. Observations:  </th>  <td>   821</td>  \n",
              "</tr>\n",
              "<tr>\n",
              "  <th>Model:</th>                 <td>Logit</td>      <th>  Df Residuals:      </th>  <td>   814</td>  \n",
              "</tr>\n",
              "<tr>\n",
              "  <th>Method:</th>                 <td>MLE</td>       <th>  Df Model:          </th>  <td>     6</td>  \n",
              "</tr>\n",
              "<tr>\n",
              "  <th>Date:</th>            <td>Sun, 30 Jul 2023</td> <th>  Pseudo R-squ.:     </th>  <td>0.3305</td>  \n",
              "</tr>\n",
              "<tr>\n",
              "  <th>Time:</th>                <td>14:39:56</td>     <th>  Log-Likelihood:    </th> <td> -377.12</td> \n",
              "</tr>\n",
              "<tr>\n",
              "  <th>converged:</th>             <td>True</td>       <th>  LL-Null:           </th> <td> -563.33</td> \n",
              "</tr>\n",
              "<tr>\n",
              "  <th>Covariance Type:</th>     <td>nonrobust</td>    <th>  LLR p-value:       </th> <td>2.372e-77</td>\n",
              "</tr>\n",
              "</table>\n",
              "<table class=\"simpletable\">\n",
              "<tr>\n",
              "         <td></td>            <th>coef</th>     <th>std err</th>      <th>z</th>      <th>P>|z|</th>  <th>[0.025</th>    <th>0.975]</th>  \n",
              "</tr>\n",
              "<tr>\n",
              "  <th>Intercept</th>       <td>   -4.0107</td> <td>    0.443</td> <td>   -9.043</td> <td> 0.000</td> <td>   -4.880</td> <td>   -3.141</td>\n",
              "</tr>\n",
              "<tr>\n",
              "  <th>weak_layers</th>     <td>    0.3733</td> <td>    0.034</td> <td>   10.871</td> <td> 0.000</td> <td>    0.306</td> <td>    0.441</td>\n",
              "</tr>\n",
              "<tr>\n",
              "  <th>surface_hoar</th>    <td>    0.3306</td> <td>    0.035</td> <td>    9.424</td> <td> 0.000</td> <td>    0.262</td> <td>    0.399</td>\n",
              "</tr>\n",
              "<tr>\n",
              "  <th>fresh_thickness</th> <td>   -0.0220</td> <td>    0.030</td> <td>   -0.732</td> <td> 0.464</td> <td>   -0.081</td> <td>    0.037</td>\n",
              "</tr>\n",
              "<tr>\n",
              "  <th>wind</th>            <td>    0.1009</td> <td>    0.009</td> <td>   11.149</td> <td> 0.000</td> <td>    0.083</td> <td>    0.119</td>\n",
              "</tr>\n",
              "<tr>\n",
              "  <th>no_visitors</th>     <td>   -0.1060</td> <td>    0.032</td> <td>   -3.262</td> <td> 0.001</td> <td>   -0.170</td> <td>   -0.042</td>\n",
              "</tr>\n",
              "<tr>\n",
              "  <th>tracked_out</th>     <td>   -0.0664</td> <td>    0.181</td> <td>   -0.367</td> <td> 0.713</td> <td>   -0.420</td> <td>    0.288</td>\n",
              "</tr>\n",
              "</table>"
            ],
            "text/latex": [
              "\\begin{center}\n",
              "\\begin{tabular}{lclc}\n",
              "\\toprule\n",
              "\\textbf{Dep. Variable:}   &    avalanche     & \\textbf{  No. Observations:  } &      821    \\\\\n",
              "\\textbf{Model:}           &      Logit       & \\textbf{  Df Residuals:      } &      814    \\\\\n",
              "\\textbf{Method:}          &       MLE        & \\textbf{  Df Model:          } &        6    \\\\\n",
              "\\textbf{Date:}            & Sun, 30 Jul 2023 & \\textbf{  Pseudo R-squ.:     } &   0.3305    \\\\\n",
              "\\textbf{Time:}            &     14:39:56     & \\textbf{  Log-Likelihood:    } &   -377.12   \\\\\n",
              "\\textbf{converged:}       &       True       & \\textbf{  LL-Null:           } &   -563.33   \\\\\n",
              "\\textbf{Covariance Type:} &    nonrobust     & \\textbf{  LLR p-value:       } & 2.372e-77   \\\\\n",
              "\\bottomrule\n",
              "\\end{tabular}\n",
              "\\begin{tabular}{lcccccc}\n",
              "                          & \\textbf{coef} & \\textbf{std err} & \\textbf{z} & \\textbf{P$> |$z$|$} & \\textbf{[0.025} & \\textbf{0.975]}  \\\\\n",
              "\\midrule\n",
              "\\textbf{Intercept}        &      -4.0107  &        0.443     &    -9.043  &         0.000        &       -4.880    &       -3.141     \\\\\n",
              "\\textbf{weak\\_layers}     &       0.3733  &        0.034     &    10.871  &         0.000        &        0.306    &        0.441     \\\\\n",
              "\\textbf{surface\\_hoar}    &       0.3306  &        0.035     &     9.424  &         0.000        &        0.262    &        0.399     \\\\\n",
              "\\textbf{fresh\\_thickness} &      -0.0220  &        0.030     &    -0.732  &         0.464        &       -0.081    &        0.037     \\\\\n",
              "\\textbf{wind}             &       0.1009  &        0.009     &    11.149  &         0.000        &        0.083    &        0.119     \\\\\n",
              "\\textbf{no\\_visitors}     &      -0.1060  &        0.032     &    -3.262  &         0.001        &       -0.170    &       -0.042     \\\\\n",
              "\\textbf{tracked\\_out}     &      -0.0664  &        0.181     &    -0.367  &         0.713        &       -0.420    &        0.288     \\\\\n",
              "\\bottomrule\n",
              "\\end{tabular}\n",
              "%\\caption{Logit Regression Results}\n",
              "\\end{center}"
            ],
            "text/plain": [
              "<class 'statsmodels.iolib.summary.Summary'>\n",
              "\"\"\"\n",
              "                           Logit Regression Results                           \n",
              "==============================================================================\n",
              "Dep. Variable:              avalanche   No. Observations:                  821\n",
              "Model:                          Logit   Df Residuals:                      814\n",
              "Method:                           MLE   Df Model:                            6\n",
              "Date:                Sun, 30 Jul 2023   Pseudo R-squ.:                  0.3305\n",
              "Time:                        14:39:56   Log-Likelihood:                -377.12\n",
              "converged:                       True   LL-Null:                       -563.33\n",
              "Covariance Type:            nonrobust   LLR p-value:                 2.372e-77\n",
              "===================================================================================\n",
              "                      coef    std err          z      P>|z|      [0.025      0.975]\n",
              "-----------------------------------------------------------------------------------\n",
              "Intercept          -4.0107      0.443     -9.043      0.000      -4.880      -3.141\n",
              "weak_layers         0.3733      0.034     10.871      0.000       0.306       0.441\n",
              "surface_hoar        0.3306      0.035      9.424      0.000       0.262       0.399\n",
              "fresh_thickness    -0.0220      0.030     -0.732      0.464      -0.081       0.037\n",
              "wind                0.1009      0.009     11.149      0.000       0.083       0.119\n",
              "no_visitors        -0.1060      0.032     -3.262      0.001      -0.170      -0.042\n",
              "tracked_out        -0.0664      0.181     -0.367      0.713      -0.420       0.288\n",
              "===================================================================================\n",
              "\"\"\""
            ]
          },
          "execution_count": 4,
          "metadata": {},
          "output_type": "execute_result"
        }
      ],
      "source": [
        "model_all_features.summary()"
      ]
    },
    {
      "cell_type": "markdown",
      "metadata": {},
      "source": [
        "Take a look at the P column, recalling that values less than 0.05 mean we can be confident that this parameter is helping the model make better predictions.\n",
        "\n",
        "Both `surface_hoar` and `wind` have very small values here, meaning they're useful predictors and probably explain why our model is working better. If we look at the `coef` (which states _parameters_) column we see that these have positive values. This means that higher winds, and greater amounts of surface hoar result in higher avalanche risk.\n",
        "\n",
        "## Simplifying our model\n",
        "\n",
        "Looking at the summary again, we can see that `tracked_out` (how trampled the snow is), and `fresh_thickness` have large p-values. This means they aren't useful predictors. Let's see what happens if we remove them from our model:"
      ]
    },
    {
      "cell_type": "code",
      "execution_count": 5,
      "metadata": {},
      "outputs": [
        {
          "name": "stdout",
          "output_type": "stream",
          "text": [
            "Optimization terminated successfully.\n",
            "         Current function value: 0.459760\n",
            "         Iterations 7\n",
            "Accuracy: 0.781021897810219\n"
          ]
        }
      ],
      "source": [
        "# Perform logistic regression.\n",
        "model_simplified = smf.logit(\"avalanche ~ weak_layers + surface_hoar + wind + no_visitors\", train).fit()\n",
        "calculate_accuracy(model_simplified)"
      ]
    },
    {
      "cell_type": "markdown",
      "metadata": {},
      "source": [
        "Our new model works very similarly to the old one! In some circumstances simplifying a model like this can even improve it, as it becomes less likely to overfit.\n",
        "\n",
        "## Careful feature selection\n",
        "\n",
        "Usually, we don't just pick features blindly. Let's think about what we've just done - we removed how much fresh snow was in a model, trying to predict avalanches. Something seems off. Surely avalanches are much _more_ likely after it has snowed? Similarly, the number of people on the track seems unrelated to how many avalanches there were, but we know that people often can trigger avalanches.\n",
        "\n",
        "Let's review our earlier model again:"
      ]
    },
    {
      "cell_type": "code",
      "execution_count": 6,
      "metadata": {},
      "outputs": [
        {
          "data": {
            "text/html": [
              "<table class=\"simpletable\">\n",
              "<caption>Logit Regression Results</caption>\n",
              "<tr>\n",
              "  <th>Dep. Variable:</th>       <td>avalanche</td>    <th>  No. Observations:  </th>  <td>   821</td>  \n",
              "</tr>\n",
              "<tr>\n",
              "  <th>Model:</th>                 <td>Logit</td>      <th>  Df Residuals:      </th>  <td>   814</td>  \n",
              "</tr>\n",
              "<tr>\n",
              "  <th>Method:</th>                 <td>MLE</td>       <th>  Df Model:          </th>  <td>     6</td>  \n",
              "</tr>\n",
              "<tr>\n",
              "  <th>Date:</th>            <td>Sun, 30 Jul 2023</td> <th>  Pseudo R-squ.:     </th>  <td>0.3305</td>  \n",
              "</tr>\n",
              "<tr>\n",
              "  <th>Time:</th>                <td>14:41:03</td>     <th>  Log-Likelihood:    </th> <td> -377.12</td> \n",
              "</tr>\n",
              "<tr>\n",
              "  <th>converged:</th>             <td>True</td>       <th>  LL-Null:           </th> <td> -563.33</td> \n",
              "</tr>\n",
              "<tr>\n",
              "  <th>Covariance Type:</th>     <td>nonrobust</td>    <th>  LLR p-value:       </th> <td>2.372e-77</td>\n",
              "</tr>\n",
              "</table>\n",
              "<table class=\"simpletable\">\n",
              "<tr>\n",
              "         <td></td>            <th>coef</th>     <th>std err</th>      <th>z</th>      <th>P>|z|</th>  <th>[0.025</th>    <th>0.975]</th>  \n",
              "</tr>\n",
              "<tr>\n",
              "  <th>Intercept</th>       <td>   -4.0107</td> <td>    0.443</td> <td>   -9.043</td> <td> 0.000</td> <td>   -4.880</td> <td>   -3.141</td>\n",
              "</tr>\n",
              "<tr>\n",
              "  <th>weak_layers</th>     <td>    0.3733</td> <td>    0.034</td> <td>   10.871</td> <td> 0.000</td> <td>    0.306</td> <td>    0.441</td>\n",
              "</tr>\n",
              "<tr>\n",
              "  <th>surface_hoar</th>    <td>    0.3306</td> <td>    0.035</td> <td>    9.424</td> <td> 0.000</td> <td>    0.262</td> <td>    0.399</td>\n",
              "</tr>\n",
              "<tr>\n",
              "  <th>fresh_thickness</th> <td>   -0.0220</td> <td>    0.030</td> <td>   -0.732</td> <td> 0.464</td> <td>   -0.081</td> <td>    0.037</td>\n",
              "</tr>\n",
              "<tr>\n",
              "  <th>wind</th>            <td>    0.1009</td> <td>    0.009</td> <td>   11.149</td> <td> 0.000</td> <td>    0.083</td> <td>    0.119</td>\n",
              "</tr>\n",
              "<tr>\n",
              "  <th>no_visitors</th>     <td>   -0.1060</td> <td>    0.032</td> <td>   -3.262</td> <td> 0.001</td> <td>   -0.170</td> <td>   -0.042</td>\n",
              "</tr>\n",
              "<tr>\n",
              "  <th>tracked_out</th>     <td>   -0.0664</td> <td>    0.181</td> <td>   -0.367</td> <td> 0.713</td> <td>   -0.420</td> <td>    0.288</td>\n",
              "</tr>\n",
              "</table>"
            ],
            "text/latex": [
              "\\begin{center}\n",
              "\\begin{tabular}{lclc}\n",
              "\\toprule\n",
              "\\textbf{Dep. Variable:}   &    avalanche     & \\textbf{  No. Observations:  } &      821    \\\\\n",
              "\\textbf{Model:}           &      Logit       & \\textbf{  Df Residuals:      } &      814    \\\\\n",
              "\\textbf{Method:}          &       MLE        & \\textbf{  Df Model:          } &        6    \\\\\n",
              "\\textbf{Date:}            & Sun, 30 Jul 2023 & \\textbf{  Pseudo R-squ.:     } &   0.3305    \\\\\n",
              "\\textbf{Time:}            &     14:41:03     & \\textbf{  Log-Likelihood:    } &   -377.12   \\\\\n",
              "\\textbf{converged:}       &       True       & \\textbf{  LL-Null:           } &   -563.33   \\\\\n",
              "\\textbf{Covariance Type:} &    nonrobust     & \\textbf{  LLR p-value:       } & 2.372e-77   \\\\\n",
              "\\bottomrule\n",
              "\\end{tabular}\n",
              "\\begin{tabular}{lcccccc}\n",
              "                          & \\textbf{coef} & \\textbf{std err} & \\textbf{z} & \\textbf{P$> |$z$|$} & \\textbf{[0.025} & \\textbf{0.975]}  \\\\\n",
              "\\midrule\n",
              "\\textbf{Intercept}        &      -4.0107  &        0.443     &    -9.043  &         0.000        &       -4.880    &       -3.141     \\\\\n",
              "\\textbf{weak\\_layers}     &       0.3733  &        0.034     &    10.871  &         0.000        &        0.306    &        0.441     \\\\\n",
              "\\textbf{surface\\_hoar}    &       0.3306  &        0.035     &     9.424  &         0.000        &        0.262    &        0.399     \\\\\n",
              "\\textbf{fresh\\_thickness} &      -0.0220  &        0.030     &    -0.732  &         0.464        &       -0.081    &        0.037     \\\\\n",
              "\\textbf{wind}             &       0.1009  &        0.009     &    11.149  &         0.000        &        0.083    &        0.119     \\\\\n",
              "\\textbf{no\\_visitors}     &      -0.1060  &        0.032     &    -3.262  &         0.001        &       -0.170    &       -0.042     \\\\\n",
              "\\textbf{tracked\\_out}     &      -0.0664  &        0.181     &    -0.367  &         0.713        &       -0.420    &        0.288     \\\\\n",
              "\\bottomrule\n",
              "\\end{tabular}\n",
              "%\\caption{Logit Regression Results}\n",
              "\\end{center}"
            ],
            "text/plain": [
              "<class 'statsmodels.iolib.summary.Summary'>\n",
              "\"\"\"\n",
              "                           Logit Regression Results                           \n",
              "==============================================================================\n",
              "Dep. Variable:              avalanche   No. Observations:                  821\n",
              "Model:                          Logit   Df Residuals:                      814\n",
              "Method:                           MLE   Df Model:                            6\n",
              "Date:                Sun, 30 Jul 2023   Pseudo R-squ.:                  0.3305\n",
              "Time:                        14:41:03   Log-Likelihood:                -377.12\n",
              "converged:                       True   LL-Null:                       -563.33\n",
              "Covariance Type:            nonrobust   LLR p-value:                 2.372e-77\n",
              "===================================================================================\n",
              "                      coef    std err          z      P>|z|      [0.025      0.975]\n",
              "-----------------------------------------------------------------------------------\n",
              "Intercept          -4.0107      0.443     -9.043      0.000      -4.880      -3.141\n",
              "weak_layers         0.3733      0.034     10.871      0.000       0.306       0.441\n",
              "surface_hoar        0.3306      0.035      9.424      0.000       0.262       0.399\n",
              "fresh_thickness    -0.0220      0.030     -0.732      0.464      -0.081       0.037\n",
              "wind                0.1009      0.009     11.149      0.000       0.083       0.119\n",
              "no_visitors        -0.1060      0.032     -3.262      0.001      -0.170      -0.042\n",
              "tracked_out        -0.0664      0.181     -0.367      0.713      -0.420       0.288\n",
              "===================================================================================\n",
              "\"\"\""
            ]
          },
          "execution_count": 6,
          "metadata": {},
          "output_type": "execute_result"
        }
      ],
      "source": [
        "model_all_features.summary()"
      ]
    },
    {
      "attachments": {},
      "cell_type": "markdown",
      "metadata": {},
      "source": [
        "Look at the `fresh_thickness` row. We're told that it has a negative coefficient. This means that as thickness increases, avalanches decrease.\n",
        "\n",
        "Similarly, `no_visitors` has a negative coefficient, meaning that fewer hikers means more avalanches.\n",
        "\n",
        "How can this be? Well, while visitors can cause avalanches if there's a lot of fresh snow, presumably they cannot do so easily if there's no fresh snow. This means that our features aren't fully independent.\n",
        "\n",
        "We can tell the model to try to take into account that these features interact, using a multiply sign. Let's try that now."
      ]
    },
    {
      "cell_type": "code",
      "execution_count": 7,
      "metadata": {},
      "outputs": [
        {
          "name": "stdout",
          "output_type": "stream",
          "text": [
            "Optimization terminated successfully.\n",
            "         Current function value: 0.413538\n",
            "         Iterations 7\n",
            "Accuracy: 0.8357664233576643\n"
          ]
        }
      ],
      "source": [
        "# Create a model with an interaction. Notice the end of the string where\n",
        "# we've a multiply sign between no_visitors and fresh_thickness\n",
        "formula = \"avalanche ~ weak_layers + surface_hoar + wind + no_visitors * fresh_thickness\"\n",
        "model_with_interaction = smf.logit(formula, train).fit()\n",
        "calculate_accuracy(model_with_interaction)"
      ]
    },
    {
      "cell_type": "markdown",
      "metadata": {},
      "source": [
        "The model has improved to 84% accuracy! Let's look at the summary information:"
      ]
    },
    {
      "cell_type": "code",
      "execution_count": 8,
      "metadata": {},
      "outputs": [
        {
          "data": {
            "text/html": [
              "<table class=\"simpletable\">\n",
              "<caption>Logit Regression Results</caption>\n",
              "<tr>\n",
              "  <th>Dep. Variable:</th>       <td>avalanche</td>    <th>  No. Observations:  </th>  <td>   821</td>  \n",
              "</tr>\n",
              "<tr>\n",
              "  <th>Model:</th>                 <td>Logit</td>      <th>  Df Residuals:      </th>  <td>   814</td>  \n",
              "</tr>\n",
              "<tr>\n",
              "  <th>Method:</th>                 <td>MLE</td>       <th>  Df Model:          </th>  <td>     6</td>  \n",
              "</tr>\n",
              "<tr>\n",
              "  <th>Date:</th>            <td>Sun, 30 Jul 2023</td> <th>  Pseudo R-squ.:     </th>  <td>0.3973</td>  \n",
              "</tr>\n",
              "<tr>\n",
              "  <th>Time:</th>                <td>14:41:08</td>     <th>  Log-Likelihood:    </th> <td> -339.51</td> \n",
              "</tr>\n",
              "<tr>\n",
              "  <th>converged:</th>             <td>True</td>       <th>  LL-Null:           </th> <td> -563.33</td> \n",
              "</tr>\n",
              "<tr>\n",
              "  <th>Covariance Type:</th>     <td>nonrobust</td>    <th>  LLR p-value:       </th> <td>1.587e-93</td>\n",
              "</tr>\n",
              "</table>\n",
              "<table class=\"simpletable\">\n",
              "<tr>\n",
              "               <td></td>                  <th>coef</th>     <th>std err</th>      <th>z</th>      <th>P>|z|</th>  <th>[0.025</th>    <th>0.975]</th>  \n",
              "</tr>\n",
              "<tr>\n",
              "  <th>Intercept</th>                   <td>   -0.9606</td> <td>    0.587</td> <td>   -1.636</td> <td> 0.102</td> <td>   -2.111</td> <td>    0.190</td>\n",
              "</tr>\n",
              "<tr>\n",
              "  <th>weak_layers</th>                 <td>    0.4327</td> <td>    0.039</td> <td>   11.193</td> <td> 0.000</td> <td>    0.357</td> <td>    0.508</td>\n",
              "</tr>\n",
              "<tr>\n",
              "  <th>surface_hoar</th>                <td>    0.3887</td> <td>    0.039</td> <td>   10.035</td> <td> 0.000</td> <td>    0.313</td> <td>    0.465</td>\n",
              "</tr>\n",
              "<tr>\n",
              "  <th>wind</th>                        <td>    0.1204</td> <td>    0.010</td> <td>   11.607</td> <td> 0.000</td> <td>    0.100</td> <td>    0.141</td>\n",
              "</tr>\n",
              "<tr>\n",
              "  <th>no_visitors</th>                 <td>   -0.9430</td> <td>    0.114</td> <td>   -8.237</td> <td> 0.000</td> <td>   -1.167</td> <td>   -0.719</td>\n",
              "</tr>\n",
              "<tr>\n",
              "  <th>fresh_thickness</th>             <td>   -0.4962</td> <td>    0.069</td> <td>   -7.191</td> <td> 0.000</td> <td>   -0.631</td> <td>   -0.361</td>\n",
              "</tr>\n",
              "<tr>\n",
              "  <th>no_visitors:fresh_thickness</th> <td>    0.1015</td> <td>    0.013</td> <td>    7.835</td> <td> 0.000</td> <td>    0.076</td> <td>    0.127</td>\n",
              "</tr>\n",
              "</table>"
            ],
            "text/latex": [
              "\\begin{center}\n",
              "\\begin{tabular}{lclc}\n",
              "\\toprule\n",
              "\\textbf{Dep. Variable:}                &    avalanche     & \\textbf{  No. Observations:  } &      821    \\\\\n",
              "\\textbf{Model:}                        &      Logit       & \\textbf{  Df Residuals:      } &      814    \\\\\n",
              "\\textbf{Method:}                       &       MLE        & \\textbf{  Df Model:          } &        6    \\\\\n",
              "\\textbf{Date:}                         & Sun, 30 Jul 2023 & \\textbf{  Pseudo R-squ.:     } &   0.3973    \\\\\n",
              "\\textbf{Time:}                         &     14:41:08     & \\textbf{  Log-Likelihood:    } &   -339.51   \\\\\n",
              "\\textbf{converged:}                    &       True       & \\textbf{  LL-Null:           } &   -563.33   \\\\\n",
              "\\textbf{Covariance Type:}              &    nonrobust     & \\textbf{  LLR p-value:       } & 1.587e-93   \\\\\n",
              "\\bottomrule\n",
              "\\end{tabular}\n",
              "\\begin{tabular}{lcccccc}\n",
              "                                       & \\textbf{coef} & \\textbf{std err} & \\textbf{z} & \\textbf{P$> |$z$|$} & \\textbf{[0.025} & \\textbf{0.975]}  \\\\\n",
              "\\midrule\n",
              "\\textbf{Intercept}                     &      -0.9606  &        0.587     &    -1.636  &         0.102        &       -2.111    &        0.190     \\\\\n",
              "\\textbf{weak\\_layers}                  &       0.4327  &        0.039     &    11.193  &         0.000        &        0.357    &        0.508     \\\\\n",
              "\\textbf{surface\\_hoar}                 &       0.3887  &        0.039     &    10.035  &         0.000        &        0.313    &        0.465     \\\\\n",
              "\\textbf{wind}                          &       0.1204  &        0.010     &    11.607  &         0.000        &        0.100    &        0.141     \\\\\n",
              "\\textbf{no\\_visitors}                  &      -0.9430  &        0.114     &    -8.237  &         0.000        &       -1.167    &       -0.719     \\\\\n",
              "\\textbf{fresh\\_thickness}              &      -0.4962  &        0.069     &    -7.191  &         0.000        &       -0.631    &       -0.361     \\\\\n",
              "\\textbf{no\\_visitors:fresh\\_thickness} &       0.1015  &        0.013     &     7.835  &         0.000        &        0.076    &        0.127     \\\\\n",
              "\\bottomrule\n",
              "\\end{tabular}\n",
              "%\\caption{Logit Regression Results}\n",
              "\\end{center}"
            ],
            "text/plain": [
              "<class 'statsmodels.iolib.summary.Summary'>\n",
              "\"\"\"\n",
              "                           Logit Regression Results                           \n",
              "==============================================================================\n",
              "Dep. Variable:              avalanche   No. Observations:                  821\n",
              "Model:                          Logit   Df Residuals:                      814\n",
              "Method:                           MLE   Df Model:                            6\n",
              "Date:                Sun, 30 Jul 2023   Pseudo R-squ.:                  0.3973\n",
              "Time:                        14:41:08   Log-Likelihood:                -339.51\n",
              "converged:                       True   LL-Null:                       -563.33\n",
              "Covariance Type:            nonrobust   LLR p-value:                 1.587e-93\n",
              "===============================================================================================\n",
              "                                  coef    std err          z      P>|z|      [0.025      0.975]\n",
              "-----------------------------------------------------------------------------------------------\n",
              "Intercept                      -0.9606      0.587     -1.636      0.102      -2.111       0.190\n",
              "weak_layers                     0.4327      0.039     11.193      0.000       0.357       0.508\n",
              "surface_hoar                    0.3887      0.039     10.035      0.000       0.313       0.465\n",
              "wind                            0.1204      0.010     11.607      0.000       0.100       0.141\n",
              "no_visitors                    -0.9430      0.114     -8.237      0.000      -1.167      -0.719\n",
              "fresh_thickness                -0.4962      0.069     -7.191      0.000      -0.631      -0.361\n",
              "no_visitors:fresh_thickness     0.1015      0.013      7.835      0.000       0.076       0.127\n",
              "===============================================================================================\n",
              "\"\"\""
            ]
          },
          "execution_count": 8,
          "metadata": {},
          "output_type": "execute_result"
        }
      ],
      "source": [
        "model_with_interaction.summary()"
      ]
    },
    {
      "cell_type": "markdown",
      "metadata": {},
      "source": [
        "We can see that the interaction term is helpful - the p-value is less than 0.05. The model is also performing better than our previous attempts.\n",
        "\n",
        "## Making predictions with multiple features\n",
        "\n",
        "Very quickly, lets explore what this interaction means by looking at model predictions. \n",
        "\n",
        "We will first graph two independent features in 3D. Let's start with `weak_layers` and `wind`:"
      ]
    },
    {
      "cell_type": "code",
      "execution_count": null,
      "metadata": {},
      "outputs": [],
      "source": [
        "graphing.model_to_surface_plot(model_with_interaction, [\"weak_layers\", \"wind\"], test)"
      ]
    },
    {
      "cell_type": "markdown",
      "metadata": {},
      "source": [
        "The graph is interactive - rotate it and explore how there's a clear s-shaped relationship between the features and probability.\n",
        "\n",
        "Let's now look at the features that we've said can interact:"
      ]
    },
    {
      "cell_type": "code",
      "execution_count": null,
      "metadata": {},
      "outputs": [],
      "source": [
        "graphing.model_to_surface_plot(model_with_interaction, [\"no_visitors\", \"fresh_thickness\"], test)"
      ]
    },
    {
      "attachments": {},
      "cell_type": "markdown",
      "metadata": {},
      "source": [
        "It looks quite different to the other! From any side, we can see an s-shape, but these combine in strange ways.\n",
        "\n",
        "We can see that the risk goes up on days with lots of visitors _and_ lots of snow. There is no real risk of avalanche when there's a lot of snow but no visitors, or when there are a lot of visitors but no snow.\n",
        "\n",
        "The fact that it shows high risk when there's no fresh snow and no visitors could be due to rain, which keeps visitors and snow clouds away but results in avalanches of the older snow. To confirm this, we'd need to explore the data in more depth, but we'll stop here for now.\n",
        "\n",
        "## Summary\n",
        "\n",
        "Well done! Let's recap. We've:\n",
        "\n",
        "* improved our simple model by adding more features. \n",
        "* practiced interpreting our model coefficients (parameters) from the model summary.\n",
        "* eliminated unnecessary features.\n",
        "* explored how sometimes it's important to think about what your data really means.\n",
        "* created a model that combined features to give a superior result."
      ]
    }
  ],
  "metadata": {
    "kernel_info": {
      "name": "conda-env-azureml_py38-py"
    },
    "kernelspec": {
      "display_name": "Python 3",
      "language": "python",
      "name": "python3"
    },
    "language_info": {
      "codemirror_mode": {
        "name": "ipython",
        "version": 3
      },
      "file_extension": ".py",
      "mimetype": "text/x-python",
      "name": "python",
      "nbconvert_exporter": "python",
      "pygments_lexer": "ipython3",
      "version": "3.11.3"
    },
    "nteract": {
      "version": "nteract-front-end@1.0.0"
    }
  },
  "nbformat": 4,
  "nbformat_minor": 2
}
