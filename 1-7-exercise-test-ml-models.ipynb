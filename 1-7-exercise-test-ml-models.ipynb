{
  "cells": [
    {
      "cell_type": "markdown",
      "id": "e3e57e33",
      "metadata": {},
      "source": [
        "# Exercise: Using a Trained Model on New Data\n",
        "\n",
        "In Unit 3, we created a basic model that let us find the relationship between a dog's harness size and their boot size. We showed how this model could then be used to make a prediction about a new, previously unseen dog.\n",
        "\n",
        "It's common to build, train, then use a model while we are just learning about machine learning; but in the real world, we don't want to train the model _every time_ we want to make a prediction.\n",
        "\n",
        "Consider our avalanche-dog equipment store scenario:\n",
        "\n",
        "* We want to train the model just once, then load that model onto the server that runs our online store. \n",
        "* Although the model is _trained_ on a dataset we downloaded from the internet, we actually want to _use_ it to estimate the boot size of our customers' dogs who are not in this dataset! \n",
        "\n",
        "How can we do this?\n",
        "\n",
        "Here, we'll:\n",
        "\n",
        "1. Create a basic model\n",
        "2. Save it to disk\n",
        "3. Load it from disk\n",
        "4. Use it to make predictions about a dog who was not in the training dataset\n",
        "\n",
        "## Load the dataset\n",
        "\n",
        "Let's begin by opening the dataset from file."
      ]
    },
    {
      "cell_type": "code",
      "execution_count": null,
      "id": "64366eb9",
      "metadata": {},
      "outputs": [],
      "source": [
        "import pandas\n",
        "# Load a file containing dog's boot and harness sizes\n",
        "data = pandas.read_csv('doggy-boot-harness.csv')\n",
        "\n",
        "# Print the first few rows\n",
        "data.head()\n"
      ]
    },
    {
      "cell_type": "markdown",
      "id": "822fff6b",
      "metadata": {},
      "source": [
        "## Create and train a model\n",
        "\n",
        "As we've done before, we'll create a simple Linear Regression model and train it on our dataset."
      ]
    },
    {
      "cell_type": "code",
      "execution_count": null,
      "id": "978d5fe6",
      "metadata": {},
      "outputs": [],
      "source": [
        "import statsmodels.formula.api as smf\n",
        "\n",
        "# Fit a simple model that finds a linear relationship\n",
        "# between boot size and harness size, which we can use later\n",
        "# to predict a dog's boot size, given their harness size\n",
        "model = smf.ols(formula = \"boot_size ~ harness_size\", data = data).fit()\n",
        "\n",
        "print(\"Model trained!\")"
      ]
    },
    {
      "cell_type": "markdown",
      "id": "5d355498",
      "metadata": {},
      "source": [
        "## Save and load a model\n",
        "\n",
        "Our model is ready to use, but we don't need it yet. Let's save it to disk."
      ]
    },
    {
      "cell_type": "code",
      "execution_count": null,
      "id": "8f592dec",
      "metadata": {},
      "outputs": [],
      "source": [
        "import joblib\n",
        "\n",
        "model_filename = './avalanche_dog_boot_model.pkl'\n",
        "joblib.dump(model, model_filename)\n",
        "\n",
        "print(\"Model saved!\")"
      ]
    },
    {
      "cell_type": "markdown",
      "id": "68ea0066",
      "metadata": {},
      "source": [
        "Loading our model is just as easy:"
      ]
    },
    {
      "cell_type": "code",
      "execution_count": null,
      "id": "9405a7d2",
      "metadata": {},
      "outputs": [],
      "source": [
        "model_loaded = joblib.load(model_filename)\n",
        "\n",
        "print(\"We have loaded a model with the following parameters:\")\n",
        "print(model_loaded.params)"
      ]
    },
    {
      "cell_type": "markdown",
      "id": "b732e62b",
      "metadata": {},
      "source": [
        "## Put it together\n",
        "\n",
        "On our website, we'll want to take the harness of our customer's dog, then calculate their dog's boot size using the model that we've already trained.\n",
        "\n",
        "Let's put everything here together to make a function that loads the model from disk, then uses it to predict our customer's dog's boot size height."
      ]
    },
    {
      "cell_type": "code",
      "execution_count": null,
      "id": "f0c9e8b2",
      "metadata": {},
      "outputs": [],
      "source": [
        "# Let's write a function that loads and uses our model\n",
        "def load_model_and_predict(harness_size):\n",
        "    '''\n",
        "    This function loads a pretrained model. It uses the model\n",
        "    with the customer's dog's harness size to predict the size of\n",
        "    boots that will fit that dog.\n",
        "\n",
        "    harness_size: The dog harness size, in cm \n",
        "    '''\n",
        "\n",
        "    # Load the model from file and print basic information about it\n",
        "    loaded_model = joblib.load(model_filename)\n",
        "\n",
        "    print(\"We've loaded a model with the following parameters:\")\n",
        "    print(loaded_model.params)\n",
        "\n",
        "    # Prepare data for the model\n",
        "    inputs = {\"harness_size\":[harness_size]} \n",
        "\n",
        "    # Use the model to make a prediction\n",
        "    predicted_boot_size = loaded_model.predict(inputs)[0]\n",
        "\n",
        "    return predicted_boot_size\n",
        "\n",
        "# Practice using our model\n",
        "predicted_boot_size = load_model_and_predict(45)\n",
        "\n",
        "print(\"Predicted dog boot size:\", predicted_boot_size)"
      ]
    },
    {
      "cell_type": "markdown",
      "id": "cb3b0fc4",
      "metadata": {},
      "source": [
        "## Real world use \n",
        "\n",
        "We've done it; we can predict an avalanche dog's boot size based on the size of their harness. Our last step is to use this to warn people if they might be buying the wrong sized doggy boots. \n",
        "\n",
        "As an example, we'll make a function that accepts the harness size, the size of the boots selected, and returns a message for the customer. We would integrate this function into our online store."
      ]
    },
    {
      "cell_type": "code",
      "execution_count": null,
      "id": "06b77289",
      "metadata": {},
      "outputs": [],
      "source": [
        "def check_size_of_boots(selected_harness_size, selected_boot_size):\n",
        "    '''\n",
        "    Calculates whether the customer has chosen a pair of doggy boots that \n",
        "    are a sensible size. This works by estimating the dog's actual boot \n",
        "    size from their harness size.\n",
        "\n",
        "    This returns a message for the customer that should be shown before\n",
        "    they complete their payment \n",
        "\n",
        "    selected_harness_size: The size of the harness the customer wants to buy\n",
        "    selected_boot_size: The size of the doggy boots the customer wants to buy\n",
        "    '''\n",
        "\n",
        "    # Estimate the customer's dog's boot size\n",
        "    estimated_boot_size = load_model_and_predict(selected_harness_size)\n",
        "\n",
        "    # Round to the nearest whole number because we don't sell partial sizes\n",
        "    estimated_boot_size = int(round(estimated_boot_size))\n",
        "\n",
        "    # Check if the boot size selected is appropriate\n",
        "    if selected_boot_size == estimated_boot_size:\n",
        "        # The selected boots are probably OK\n",
        "        return f\"Great choice! We think these boots will fit your avalanche dog well.\"\n",
        "\n",
        "    if selected_boot_size < estimated_boot_size:\n",
        "        # Selected boots might be too small \n",
        "        return \"The boots you have selected might be TOO SMALL for a dog as \"\\\n",
        "               f\"big as yours. We recommend a doggy boots size of {estimated_boot_size}.\"\n",
        "\n",
        "    if selected_boot_size > estimated_boot_size:\n",
        "        # Selected boots might be too big \n",
        "        return \"The boots you have selected might be TOO BIG for a dog as \"\\\n",
        "               f\"small as yours. We recommend a doggy boots size of {estimated_boot_size}.\"\n",
        "    \n",
        "\n",
        "# Practice using our new warning system\n",
        "check_size_of_boots(selected_harness_size=55, selected_boot_size=39)"
      ]
    },
    {
      "cell_type": "markdown",
      "id": "511158a7",
      "metadata": {},
      "source": [
        "\n",
        "Change `selected_harness_size` and `selected_boot_size` in the preceding example and re-run the cell to see this in action.\n",
        "\n",
        "## Summary\n",
        "\n",
        "Well done! We've put together a system that can predict if customers are buying doggy boots that may not fit their avalanche dog, based solely on the size of harness they're purchasing. \n",
        "\n",
        "In this exercise, we practiced:\n",
        "\n",
        "1. Creating basic models\n",
        "2. Training, then saving them to disk\n",
        "3. Loading them from disk\n",
        "4. Making predictions with them using new data sets"
      ]
    }
  ],
  "metadata": {
    "kernel_info": {
      "name": "conda-env-azureml_py38-py"
    },
    "kernelspec": {
      "display_name": "azureml_py38",
      "language": "python",
      "name": "conda-env-azureml_py38-py"
    },
    "language_info": {
      "codemirror_mode": {
        "name": "ipython",
        "version": 3
      },
      "file_extension": ".py",
      "mimetype": "text/x-python",
      "name": "python",
      "nbconvert_exporter": "python",
      "pygments_lexer": "ipython3",
      "version": "3.7.9"
    },
    "nteract": {
      "version": "nteract-front-end@1.0.0"
    }
  },
  "nbformat": 4,
  "nbformat_minor": 5
}
