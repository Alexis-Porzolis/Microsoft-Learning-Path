{
  "cells": [
    {
      "cell_type": "markdown",
      "id": "6d1109a5",
      "metadata": {},
      "source": [
        "# Exercise: Fitting a Polynomial Curve"
      ]
    },
    {
      "attachments": {},
      "cell_type": "markdown",
      "id": "9efeb1ee",
      "metadata": {},
      "source": [
        "In this exercise, we'll have a look at a different type of regression called _polynomial regression_.\n",
        "In contrast to _linear regression_ ,which models relationships as straight lines, _polynomial regression_ models relationships as curves.\n",
        "\n",
        "Recall in our previous exercise how the relationship between `core_temperature` and `protein_content_of_last_meal` couldn't be properly explained using a straight line. In this exercise, we'll use _polynomial regression_ to fit a curve to the data instead.\n",
        "\n",
        "## Data visualization\n",
        "\n",
        "Let's start this exercise by loading and having a look at our data."
      ]
    },
    {
      "cell_type": "code",
      "execution_count": 1,
      "id": "0a2d409a",
      "metadata": {
        "scrolled": true
      },
      "outputs": [
        {
          "data": {
            "text/html": [
              "<div>\n",
              "<style scoped>\n",
              "    .dataframe tbody tr th:only-of-type {\n",
              "        vertical-align: middle;\n",
              "    }\n",
              "\n",
              "    .dataframe tbody tr th {\n",
              "        vertical-align: top;\n",
              "    }\n",
              "\n",
              "    .dataframe thead th {\n",
              "        text-align: right;\n",
              "    }\n",
              "</style>\n",
              "<table border=\"1\" class=\"dataframe\">\n",
              "  <thead>\n",
              "    <tr style=\"text-align: right;\">\n",
              "      <th></th>\n",
              "      <th>male</th>\n",
              "      <th>attended_training</th>\n",
              "      <th>age</th>\n",
              "      <th>body_fat_percentage</th>\n",
              "      <th>core_temperature</th>\n",
              "      <th>ate_at_tonys_steakhouse</th>\n",
              "      <th>needed_intensive_care</th>\n",
              "      <th>protein_content_of_last_meal</th>\n",
              "    </tr>\n",
              "  </thead>\n",
              "  <tbody>\n",
              "    <tr>\n",
              "      <th>0</th>\n",
              "      <td>0</td>\n",
              "      <td>1</td>\n",
              "      <td>6.9</td>\n",
              "      <td>38</td>\n",
              "      <td>38.423169</td>\n",
              "      <td>0</td>\n",
              "      <td>0</td>\n",
              "      <td>7.66</td>\n",
              "    </tr>\n",
              "    <tr>\n",
              "      <th>1</th>\n",
              "      <td>0</td>\n",
              "      <td>1</td>\n",
              "      <td>5.4</td>\n",
              "      <td>32</td>\n",
              "      <td>39.015998</td>\n",
              "      <td>0</td>\n",
              "      <td>0</td>\n",
              "      <td>13.36</td>\n",
              "    </tr>\n",
              "    <tr>\n",
              "      <th>2</th>\n",
              "      <td>1</td>\n",
              "      <td>1</td>\n",
              "      <td>5.4</td>\n",
              "      <td>12</td>\n",
              "      <td>39.148341</td>\n",
              "      <td>0</td>\n",
              "      <td>0</td>\n",
              "      <td>12.90</td>\n",
              "    </tr>\n",
              "    <tr>\n",
              "      <th>3</th>\n",
              "      <td>1</td>\n",
              "      <td>0</td>\n",
              "      <td>4.8</td>\n",
              "      <td>23</td>\n",
              "      <td>39.060049</td>\n",
              "      <td>0</td>\n",
              "      <td>0</td>\n",
              "      <td>13.45</td>\n",
              "    </tr>\n",
              "    <tr>\n",
              "      <th>4</th>\n",
              "      <td>1</td>\n",
              "      <td>0</td>\n",
              "      <td>4.8</td>\n",
              "      <td>15</td>\n",
              "      <td>38.655439</td>\n",
              "      <td>0</td>\n",
              "      <td>0</td>\n",
              "      <td>10.53</td>\n",
              "    </tr>\n",
              "    <tr>\n",
              "      <th>...</th>\n",
              "      <td>...</td>\n",
              "      <td>...</td>\n",
              "      <td>...</td>\n",
              "      <td>...</td>\n",
              "      <td>...</td>\n",
              "      <td>...</td>\n",
              "      <td>...</td>\n",
              "      <td>...</td>\n",
              "    </tr>\n",
              "    <tr>\n",
              "      <th>93</th>\n",
              "      <td>0</td>\n",
              "      <td>0</td>\n",
              "      <td>4.5</td>\n",
              "      <td>38</td>\n",
              "      <td>37.939942</td>\n",
              "      <td>0</td>\n",
              "      <td>0</td>\n",
              "      <td>7.35</td>\n",
              "    </tr>\n",
              "    <tr>\n",
              "      <th>94</th>\n",
              "      <td>1</td>\n",
              "      <td>0</td>\n",
              "      <td>1.8</td>\n",
              "      <td>11</td>\n",
              "      <td>38.790426</td>\n",
              "      <td>1</td>\n",
              "      <td>1</td>\n",
              "      <td>12.18</td>\n",
              "    </tr>\n",
              "    <tr>\n",
              "      <th>95</th>\n",
              "      <td>0</td>\n",
              "      <td>0</td>\n",
              "      <td>6.6</td>\n",
              "      <td>20</td>\n",
              "      <td>39.489962</td>\n",
              "      <td>0</td>\n",
              "      <td>0</td>\n",
              "      <td>15.84</td>\n",
              "    </tr>\n",
              "    <tr>\n",
              "      <th>96</th>\n",
              "      <td>0</td>\n",
              "      <td>0</td>\n",
              "      <td>6.9</td>\n",
              "      <td>32</td>\n",
              "      <td>38.575742</td>\n",
              "      <td>1</td>\n",
              "      <td>1</td>\n",
              "      <td>9.79</td>\n",
              "    </tr>\n",
              "    <tr>\n",
              "      <th>97</th>\n",
              "      <td>1</td>\n",
              "      <td>1</td>\n",
              "      <td>6.0</td>\n",
              "      <td>21</td>\n",
              "      <td>39.766447</td>\n",
              "      <td>1</td>\n",
              "      <td>1</td>\n",
              "      <td>21.30</td>\n",
              "    </tr>\n",
              "  </tbody>\n",
              "</table>\n",
              "<p>98 rows × 8 columns</p>\n",
              "</div>"
            ],
            "text/plain": [
              "    male  attended_training  age  body_fat_percentage  core_temperature  \\\n",
              "0      0                  1  6.9                   38         38.423169   \n",
              "1      0                  1  5.4                   32         39.015998   \n",
              "2      1                  1  5.4                   12         39.148341   \n",
              "3      1                  0  4.8                   23         39.060049   \n",
              "4      1                  0  4.8                   15         38.655439   \n",
              "..   ...                ...  ...                  ...               ...   \n",
              "93     0                  0  4.5                   38         37.939942   \n",
              "94     1                  0  1.8                   11         38.790426   \n",
              "95     0                  0  6.6                   20         39.489962   \n",
              "96     0                  0  6.9                   32         38.575742   \n",
              "97     1                  1  6.0                   21         39.766447   \n",
              "\n",
              "    ate_at_tonys_steakhouse  needed_intensive_care  \\\n",
              "0                         0                      0   \n",
              "1                         0                      0   \n",
              "2                         0                      0   \n",
              "3                         0                      0   \n",
              "4                         0                      0   \n",
              "..                      ...                    ...   \n",
              "93                        0                      0   \n",
              "94                        1                      1   \n",
              "95                        0                      0   \n",
              "96                        1                      1   \n",
              "97                        1                      1   \n",
              "\n",
              "    protein_content_of_last_meal  \n",
              "0                           7.66  \n",
              "1                          13.36  \n",
              "2                          12.90  \n",
              "3                          13.45  \n",
              "4                          10.53  \n",
              "..                           ...  \n",
              "93                          7.35  \n",
              "94                         12.18  \n",
              "95                         15.84  \n",
              "96                          9.79  \n",
              "97                         21.30  \n",
              "\n",
              "[98 rows x 8 columns]"
            ]
          },
          "execution_count": 1,
          "metadata": {},
          "output_type": "execute_result"
        }
      ],
      "source": [
        "import pandas as pd\n",
        "\n",
        "#Import the data from the .csv file\n",
        "dataset = pd.read_csv('https://raw.githubusercontent.com/MicrosoftDocs/mslearn-introduction-to-machine-learning/main/Data/doggy-illness.csv',\n",
        "                      delimiter=\"\\t\")\n",
        "\n",
        "#Let's have a look at the data\n",
        "dataset"
      ]
    },
    {
      "attachments": {},
      "cell_type": "markdown",
      "id": "9272f22e",
      "metadata": {},
      "source": [
        "# Simple Linear Regression\n",
        "\n",
        "Let's quickly jog our memory by performing the same _simple linear regression_ as we did in the previous exercise, using the `temperature` and `protein_content_of_last_meal` columns of the dataset. \n"
      ]
    },
    {
      "cell_type": "code",
      "execution_count": null,
      "id": "76c68026",
      "metadata": {},
      "outputs": [],
      "source": [
        "import statsmodels.formula.api as smf\n",
        "import graphing # custom graphing code. See our GitHub repo for details\n",
        "\n",
        "# Perform linear regression. This method takes care of\n",
        "# the entire fitting procedure for us.\n",
        "simple_formula = \"core_temperature ~ protein_content_of_last_meal\"\n",
        "simple_model = smf.ols(formula = simple_formula, data = dataset).fit()\n",
        "\n",
        "# Show a graph of the result\n",
        "graphing.scatter_2D(dataset, label_x=\"protein_content_of_last_meal\", \n",
        "                             label_y=\"core_temperature\",\n",
        "                             trendline=lambda x: simple_model.params[1] * x + simple_model.params[0])\n"
      ]
    },
    {
      "attachments": {},
      "cell_type": "markdown",
      "id": "a252489e",
      "metadata": {},
      "source": [
        "Notice how the relationship between the two variables is not truly linear. Looking at the plot, it's fairly clear to see that the points tend more heavily towards one side of the line, especially for the higher `core-temperature` and `protein_content_of_last_meal` values. \n",
        "\n",
        "A straight line might not be the best way to describe this relationship.\n",
        "\n",
        "Let's have a quick look at the model's R-Squared score:"
      ]
    },
    {
      "cell_type": "code",
      "execution_count": null,
      "id": "90292f2f",
      "metadata": {},
      "outputs": [],
      "source": [
        "print(\"R-squared:\", simple_model.rsquared)"
      ]
    },
    {
      "attachments": {},
      "cell_type": "markdown",
      "id": "33c49c6f",
      "metadata": {},
      "source": [
        "That is quite a reasonable R-Squared score, but let's see if we can get an even better one!\n",
        "\n",
        "## Simple Polynomial Regression\n",
        "\n",
        "Let's fit a _simple polynomial regression_ this time. Similar to a _simple linear regression_, a _simple polynomial regression_ models the relationship between a label and a single feature. Unlike a _simple linear regression_, a _simple polynomial regression_ can explain relationships that aren't simply straight lines.\n",
        "\n",
        "In our example, we're going to use a three-parameter polynomial."
      ]
    },
    {
      "cell_type": "code",
      "execution_count": null,
      "id": "08dc5d87",
      "metadata": {},
      "outputs": [],
      "source": [
        "# Perform polynomial regression. This method takes care of\n",
        "# the entire fitting procedure for us.\n",
        "polynomial_formula = \"core_temperature ~ protein_content_of_last_meal + I(protein_content_of_last_meal**2)\"\n",
        "polynomial_model = smf.ols(formula = polynomial_formula, data = dataset).fit()\n",
        "\n",
        "# Show a graph of the result\n",
        "graphing.scatter_2D(dataset, label_x=\"protein_content_of_last_meal\", \n",
        "                             label_y=\"core_temperature\",\n",
        "                             # Our trendline is the equation for the polynomial\n",
        "                             trendline=lambda x: polynomial_model.params[2] * x**2 + polynomial_model.params[1] * x + polynomial_model.params[0])\n"
      ]
    },
    {
      "cell_type": "markdown",
      "id": "08b07473",
      "metadata": {},
      "source": [
        "That looks a lot better already. Let's confirm by having a quick look at the R-Squared score:"
      ]
    },
    {
      "cell_type": "code",
      "execution_count": null,
      "id": "e0d5e4db",
      "metadata": {},
      "outputs": [],
      "source": [
        "print(\"R-squared:\", polynomial_model.rsquared)"
      ]
    },
    {
      "attachments": {},
      "cell_type": "markdown",
      "id": "5c21dd2b",
      "metadata": {},
      "source": [
        "That's a better R-Squared score than the one obtained from the previous model! We can now confidently tell our vet to prioritize dogs who ate a high-protein diet the night before. "
      ]
    },
    {
      "cell_type": "markdown",
      "id": "fb95e9a6",
      "metadata": {},
      "source": [
        "Let's chart our model as a 3D chart. We'll view $X$ and $X^2$ as two separate parameters. Notice that if you rotate the visual just right, our regression model is still a flat plane. This is why polynomial models are still considered to be `linear models`."
      ]
    },
    {
      "cell_type": "code",
      "execution_count": null,
      "id": "5a9da888",
      "metadata": {},
      "outputs": [],
      "source": [
        "import numpy as np\n",
        "fig = graphing.surface(\n",
        "    x_values=np.array([min(dataset.protein_content_of_last_meal), max(dataset.protein_content_of_last_meal)]),\n",
        "    y_values=np.array([min(dataset.protein_content_of_last_meal)**2, max(dataset.protein_content_of_last_meal)**2]),\n",
        "    calc_z=lambda x,y: polynomial_model.params[0] + (polynomial_model.params[1] * x) + (polynomial_model.params[2] * y),\n",
        "    axis_title_x=\"x\",\n",
        "    axis_title_y=\"x2\",\n",
        "    axis_title_z=\"Core temperature\"\n",
        ")\n",
        "# Add our datapoints to it and display\n",
        "fig.add_scatter3d(x=dataset.protein_content_of_last_meal, y=dataset.protein_content_of_last_meal**2, z=dataset.core_temperature, mode='markers')\n",
        "fig.show()"
      ]
    },
    {
      "attachments": {},
      "cell_type": "markdown",
      "id": "5cb0355d",
      "metadata": {},
      "source": [
        "## Extrapolating\n",
        "\n",
        "Let's see what happens if we extrapolate our data. We'd like to see if dogs that ate meals even higher in protein are expected to get even sicker.\n",
        "\n",
        "Let's start with the _linear regression_. We can set what range we'd like to extrapolate our data over by using the `x_range` argument in the plotting function. Let's extrapolate over the range `[0,100]`:\n"
      ]
    },
    {
      "cell_type": "code",
      "execution_count": null,
      "id": "881d3890",
      "metadata": {},
      "outputs": [],
      "source": [
        "# Show an extrapolated graph of the linear model\n",
        "graphing.scatter_2D(dataset, label_x=\"protein_content_of_last_meal\", \n",
        "                             label_y=\"core_temperature\",\n",
        "                             # We extrapolate over the following range\n",
        "                             x_range = [0,100],\n",
        "                             trendline=lambda x: simple_model.params[1] * x + simple_model.params[0])\n"
      ]
    },
    {
      "cell_type": "markdown",
      "id": "57561d55",
      "metadata": {},
      "source": [
        "Next, we extrapolate the _polynomial regression_ over the same range:"
      ]
    },
    {
      "cell_type": "code",
      "execution_count": null,
      "id": "d264380a",
      "metadata": {},
      "outputs": [],
      "source": [
        "# Show an extrapolated graph of the polynomial model\n",
        "graphing.scatter_2D(dataset, label_x=\"protein_content_of_last_meal\", \n",
        "                             label_y=\"core_temperature\",\n",
        "                             # We extrapolate over the following range\n",
        "                             x_range = [0,100],\n",
        "                             trendline=lambda x: polynomial_model.params[2] * x**2 + polynomial_model.params[1] * x + polynomial_model.params[0])\n"
      ]
    },
    {
      "attachments": {},
      "cell_type": "markdown",
      "id": "32c82a72",
      "metadata": {},
      "source": [
        "These two graphs predict two very different things!\n",
        "\n",
        "The extrapolated _polynolmial regression_ expects `core_temperature` to go down, while the extrapolated _linear regression_ expects linear expects `core_temperature` to go up.\n",
        "\n",
        "A quick look at the graphs obtained in the previous exercise confirms that we should expect the `core_temeprature` to rise, not fall, as the `protein_content_of_last_meal` increases.\n",
        "\n",
        "In general, it's not recommended to extrapolate from a _polynomial regression_ unless you have an a-priori reason to do so (which is only very rarely the case, so it's best to err on the side of caution, and never extrapolate from  _polynomial regressions_).\n",
        "\n",
        "## Summary\n",
        "\n",
        "We covered the following concepts in this exercise:\n",
        "\n",
        "- Built _simple linear regression_ and _simple polynomial regression_ models.\n",
        "- Compared the performance of both models by plotting them and looking at R-Squared values.\n",
        "- Extrapolated the models over a wider range of values."
      ]
    }
  ],
  "metadata": {
    "kernel_info": {
      "name": "conda-env-azureml_py38-py"
    },
    "kernelspec": {
      "display_name": "Python 3",
      "language": "python",
      "name": "python3"
    },
    "language_info": {
      "codemirror_mode": {
        "name": "ipython",
        "version": 3
      },
      "file_extension": ".py",
      "mimetype": "text/x-python",
      "name": "python",
      "nbconvert_exporter": "python",
      "pygments_lexer": "ipython3",
      "version": "3.11.3"
    },
    "nteract": {
      "version": "nteract-front-end@1.0.0"
    }
  },
  "nbformat": 4,
  "nbformat_minor": 5
}
